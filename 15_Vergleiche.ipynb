{
 "cells": [
  {
   "cell_type": "markdown",
   "metadata": {},
   "source": [
    "Vergleiche\n",
    "------------\n",
    "### Grundlagen\n",
    "* Oftmals sind Vergleiche von Objekten notwendig\n",
    "* Beispiele:\n",
    "    * Ist ein Benutzer mindestens 18 Jahre alt?\n",
    "    * Ist ein Anwender in der Liste der Administratoren?"
   ]
  },
  {
   "cell_type": "code",
   "execution_count": null,
   "metadata": {
    "collapsed": false
   },
   "outputs": [],
   "source": [
    "# Test auf ...\n",
    "print(\"Test\" == \"Test\")\n",
    "print(\"Foo\" == \"Bar\")"
   ]
  },
  {
   "cell_type": "code",
   "execution_count": null,
   "metadata": {
    "collapsed": false
   },
   "outputs": [],
   "source": [
    "# Test auf ...\n",
    "print(\"Test\" != \"Test\")\n",
    "print(\"Foo\" != \"Bar\")"
   ]
  },
  {
   "cell_type": "code",
   "execution_count": null,
   "metadata": {
    "collapsed": false
   },
   "outputs": [],
   "source": [
    "# Test auf ...\n",
    "print(type(\"Test\") is str)\n",
    "print(type(123) is str)"
   ]
  },
  {
   "cell_type": "code",
   "execution_count": null,
   "metadata": {
    "collapsed": false
   },
   "outputs": [],
   "source": [
    "# Test auf ...\n",
    "print(type(\"Test\") is not str)\n",
    "print(type(123) is not str)"
   ]
  },
  {
   "cell_type": "code",
   "execution_count": null,
   "metadata": {
    "collapsed": false
   },
   "outputs": [],
   "source": [
    "# Test auf ...\n",
    "print(4 < 5)\n",
    "print(5 < 4)"
   ]
  },
  {
   "cell_type": "code",
   "execution_count": null,
   "metadata": {
    "collapsed": false
   },
   "outputs": [],
   "source": [
    "# Test auf ...\n",
    "print(4 <= 4)\n",
    "print(5 <= 4)"
   ]
  },
  {
   "cell_type": "code",
   "execution_count": null,
   "metadata": {
    "collapsed": false
   },
   "outputs": [],
   "source": [
    "# Test auf ...\n",
    "print(4 >= 5)\n",
    "print(5 >= 4)"
   ]
  },
  {
   "cell_type": "code",
   "execution_count": null,
   "metadata": {
    "collapsed": false
   },
   "outputs": [],
   "source": [
    "# Achtung!\n",
    "# Test auf ...\n",
    "a = None\n",
    "print(None is None)"
   ]
  }
 ],
 "metadata": {
  "kernelspec": {
   "display_name": "Python 3",
   "language": "python",
   "name": "python3"
  },
  "language_info": {
   "codemirror_mode": {
    "name": "ipython",
    "version": 3
   },
   "file_extension": ".py",
   "mimetype": "text/x-python",
   "name": "python",
   "nbconvert_exporter": "python",
   "pygments_lexer": "ipython3",
   "version": "3.5.1"
  }
 },
 "nbformat": 4,
 "nbformat_minor": 0
}
