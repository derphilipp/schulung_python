{
 "cells": [
  {
   "cell_type": "markdown",
   "metadata": {},
   "source": [
    "Grafische Oberfläche mit QT\n",
    "-------------\n",
    "\n",
    "* Idee: Programm mit grafischer Oberfläche\n",
    "* Es gibt zahlreiche Oberflächen-Werkzeuge\n",
    "* Ein einfaches Programm, mit nur einem Button kann komplett in Python geschrieben werden\n",
    "* Komplexere Programme könnten in Qt-Designer \"gemalt\" und mit Werkzeugen übersetzt werden\n",
    "* Viele weitere Oberflächen-Frameworks verfügbar\n",
    "* Funktioniert nicht aus IPython heraus"
   ]
  },
  {
   "cell_type": "code",
   "execution_count": 2,
   "metadata": {},
   "outputs": [],
   "source": [
    "#!/usr/bin/env python3\n",
    "# -*- coding: utf-8 -*-\n",
    "\n",
    "import sys\n",
    "\n",
    "from PyQt5.QtGui import QIcon\n",
    "from PyQt5.QtWidgets import QApplication, QPushButton, QWidget\n",
    "\n",
    "\n",
    "class HelloWorld(QWidget):\n",
    "    # Kontruktor\n",
    "    def __init__(self):\n",
    "        super().__init__()\n",
    "        self.init_ui()\n",
    "\n",
    "    # Initialisierungsfunktion\n",
    "    def init_ui(self):\n",
    "        self.my_button = QPushButton(\"Hello World\", self)\n",
    "        self.my_button.clicked.connect(self.slot_hello_world)\n",
    "        self.quit_button = QPushButton(\"Quit\", self)\n",
    "        self.quit_button.clicked.connect(QApplication.instance().quit)\n",
    "        self.quit_button.resize(self.quit_button.sizeHint())\n",
    "        self.quit_button.move(50, 50)\n",
    "\n",
    "        self.setGeometry(200, 200, 200, 200)\n",
    "        self.setWindowIcon(QIcon('web.png'))\n",
    "        self.setWindowTitle('Icon')\n",
    "        self.show()\n",
    "\n",
    "    # Beliebige Funktion\n",
    "    def slot_hello_world(self):\n",
    "        print(\"Hello World\")\n",
    "\n",
    "\n",
    "if __name__ == \"__main__\":\n",
    "    app = QApplication(sys.argv)\n",
    "    ex = HelloWorld()\n",
    "    sys.exit(app.exec_())\n"
   ]
  },
  {
   "cell_type": "code",
   "execution_count": null,
   "metadata": {},
   "outputs": [],
   "source": []
  }
 ],
 "metadata": {
  "kernelspec": {
   "display_name": "Python 3",
   "language": "python",
   "name": "python3"
  },
  "language_info": {
   "codemirror_mode": {
    "name": "ipython",
    "version": 3
   },
   "file_extension": ".py",
   "mimetype": "text/x-python",
   "name": "python",
   "nbconvert_exporter": "python",
   "pygments_lexer": "ipython3",
   "version": "3.7.5"
  }
 },
 "nbformat": 4,
 "nbformat_minor": 0
}