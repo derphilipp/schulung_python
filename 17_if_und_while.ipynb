{
 "cells": [
  {
   "cell_type": "markdown",
   "metadata": {},
   "source": [
    "If\n",
    "----------------\n",
    "### Grundlagen\n",
    "\n",
    "* Oftmals muss eine Aktion in Abhängigkeit ausgeführt werden, ob eine Bedingung erfüllt ist oder nicht.\n",
    "    * Ist ein Benutzer 18 Jahre alt?\n",
    "    * Stimmt das eingegebene Passwort mit dem gespeicherten überein?"
   ]
  },
  {
   "cell_type": "code",
   "execution_count": null,
   "metadata": {
    "collapsed": false
   },
   "outputs": [],
   "source": [
    "secret_word = \"eimer\"\n",
    "print(\"Bitte Passwort eingeben\")\n",
    "guess = input()\n",
    "if guess == secret_word:\n",
    "    print(\"Willkommen im System\")"
   ]
  },
  {
   "cell_type": "markdown",
   "metadata": {},
   "source": [
    "### Else\n",
    "\n",
    "* Ist der **if**-Zweig nicht erfüllt, wird der **else**-Zweig ausgeführt"
   ]
  },
  {
   "cell_type": "code",
   "execution_count": null,
   "metadata": {
    "collapsed": false
   },
   "outputs": [],
   "source": [
    "secret_word = \"eimer\"\n",
    "print(\"Bitte Passwort eingeben\")\n",
    "guess = input()\n",
    "if guess == secret_word:\n",
    "    print(\"Willkommen im System\")\n",
    "else:\n",
    "    print(\"Hau ab!\")"
   ]
  },
  {
   "cell_type": "markdown",
   "metadata": {},
   "source": [
    "### Elif\n",
    "\n",
    "* Um mehrere Bedingungen abzufragen, die Abhängig voneinander geprüft werden müssen, wird **elif** (kurz für **else if**) verwendet. \n",
    "* Beispiel für ein Login-System - eine Benutzerin versucht sich anzumelden\n",
    "    * Falls... sie loggt sich richtig an\n",
    "        * System starten\n",
    "    * Sonst: Falls... sie meldet sich mit weniger als 3 Fehlversuchen an\n",
    "        * Anzeigen: Passwort falsch\n",
    "    * Sonst: \n",
    "        * Anzeigen: Benutzer gesperrt"
   ]
  },
  {
   "cell_type": "code",
   "execution_count": null,
   "metadata": {
    "collapsed": false
   },
   "outputs": [],
   "source": [
    "print(\"Please select: 1 for salad, 2 for soup, 3 for steak\")\n",
    "choice = int(input())\n",
    "if choice == 1:\n",
    "    print(\"One salad coming right up\")\n",
    "elif choice == 2:\n",
    "    print(\"Soup for you!\")\n",
    "elif choice == 3:\n",
    "    print(\"Steak will be prepared\")\n",
    "else:\n",
    "    print(\"Invalid choice\")\n",
    "\n"
   ]
  },
  {
   "cell_type": "markdown",
   "metadata": {},
   "source": [
    "While\n",
    "----------------\n",
    "### Grundlagen\n",
    "\n",
    "* Oftmals muss eine Aktion durchgeführt werden, solange eine Bedingung erfüllt / nicht erfüllt ist"
   ]
  },
  {
   "cell_type": "code",
   "execution_count": null,
   "metadata": {
    "collapsed": false
   },
   "outputs": [],
   "source": [
    "secret_word = \"eimer\"\n",
    "guess = None\n",
    "\n",
    "while guess != secret_word:\n",
    "    print(\"Passwort eingeben:\")\n",
    "    guess = input()\n",
    "print(\"Willkommen im System\")"
   ]
  },
  {
   "cell_type": "markdown",
   "metadata": {},
   "source": [
    "### Break\n",
    "\n",
    "* Ein **do ... while** (mindestens einmaliges Ausführen der Aktion, dann Prüfung) gibt es nicht\n",
    "* Dies kann leicht substitutiert werden\n",
    "* Mit dem Schlüsselwort **break** wird die aktuelle **while**-Schleife verlassen"
   ]
  },
  {
   "cell_type": "code",
   "execution_count": null,
   "metadata": {
    "collapsed": false
   },
   "outputs": [],
   "source": [
    "secret_word = \"eimer\"\n",
    "\n",
    "while True:\n",
    "    print(\"Passwort eingeben:\")\n",
    "    guess = input()\n",
    "    if(guess == secret_word):\n",
    "        break\n",
    "        \n",
    "print(\"Willkommen im System\")"
   ]
  },
  {
   "cell_type": "markdown",
   "metadata": {},
   "source": [
    "### Continue\n",
    "\n",
    "* Möchte man ein Element einer Schleife überspringen, kann man dies mit **continue** machen"
   ]
  },
  {
   "cell_type": "code",
   "execution_count": null,
   "metadata": {
    "collapsed": false
   },
   "outputs": [],
   "source": [
    "# Was passiert hier?\n",
    "daten = [1, \"a\", 3, \"g\", 19, \"z\"]\n",
    "for datum in daten:\n",
    "    if type(datum) is not str:\n",
    "        print(datum)\n",
    "    else:\n",
    "        continue\n",
    "    print(\"-------\")"
   ]
  },
  {
   "cell_type": "code",
   "execution_count": null,
   "metadata": {
    "collapsed": false
   },
   "outputs": [],
   "source": [
    "# Aufgabe: Erstelle eine Methode, die einen Countdown (von der gegebene Zahl bis 0) ausgibt.\n",
    "# Wie muss die Methode geändert werden, damit diese Aufsteigende Zahlen ausgibt?\n",
    "countdown(5) # Erwartete Ausgabe: 5 4 3 2 1 0\n",
    "countup(5) # Erwartete Ausgabe: 0 1 2 3 4 5\n",
    "\n"
   ]
  },
  {
   "cell_type": "code",
   "execution_count": null,
   "metadata": {
    "collapsed": false
   },
   "outputs": [],
   "source": [
    "# Aufgabe: Erstelle eine Methode, die einen Countdown (von der gegebene Zahl bis 0) ohne die Benutzung von 'for', noch von 'while'.\n",
    "# Wie muss die Methode geändert werden, damit diese Aufsteigende Zahlen ausgibt?\n",
    "countdown(5) # Erwartete Ausgabe: 5 4 3 2 1 0\n",
    "countup(5) # Erwartete Ausgabe: 0 1 2 3 4 5"
   ]
  }
 ],
 "metadata": {
  "kernelspec": {
   "display_name": "Python 3",
   "language": "python",
   "name": "python3"
  },
  "language_info": {
   "codemirror_mode": {
    "name": "ipython",
    "version": 3
   },
   "file_extension": ".py",
   "mimetype": "text/x-python",
   "name": "python",
   "nbconvert_exporter": "python",
   "pygments_lexer": "ipython3",
   "version": "3.5.1"
  }
 },
 "nbformat": 4,
 "nbformat_minor": 0
}