{
 "cells": [
  {
   "cell_type": "markdown",
   "metadata": {},
   "source": [
    "Methoden\n",
    "---------------\n",
    "### Grundlagen\n",
    "\n",
    "* Ergeben sich wiederkehrende Aufgaben und Abläufe, möchte man diese strukturieren\n",
    "* 2 Programme, die das gleiche tun:"
   ]
  },
  {
   "cell_type": "code",
   "execution_count": null,
   "metadata": {
    "collapsed": false
   },
   "outputs": [],
   "source": [
    "print(\"Hallo und willkommen im Python Kurs\")\n",
    "print(\"Hallo und willkommen im Python Kurs\")\n",
    "print(\"Hallo und willkommen im Python Kurs\")"
   ]
  },
  {
   "cell_type": "code",
   "execution_count": null,
   "metadata": {
    "collapsed": false
   },
   "outputs": [],
   "source": [
    "# ...\n",
    "def hallo():\n",
    "    print(\"Hallo und willkommen im Python Kurs\")\n",
    "\n",
    "hallo()\n",
    "hallo()\n",
    "hallo()"
   ]
  },
  {
   "cell_type": "markdown",
   "metadata": {},
   "source": [
    "### Übergabewerte\n",
    "* Übergabewerte werden per Namen definiert\n",
    "* Es können beliebig viele Parameter definiert werden\n",
    "* Der Stern-Operator hilft bei variabel vielen Parametern"
   ]
  },
  {
   "cell_type": "code",
   "execution_count": null,
   "metadata": {
    "collapsed": false
   },
   "outputs": [],
   "source": [
    "def hallo(name):\n",
    "    print(\"Hallo {}, wie geht es dir?\".format(name))\n",
    "\n",
    "Hallo(\"Armin\")\n",
    "Hallo(\"Peter\")"
   ]
  },
  {
   "cell_type": "code",
   "execution_count": null,
   "metadata": {
    "collapsed": false
   },
   "outputs": [],
   "source": [
    "def hallo(name_1, name_2):\n",
    "    print(\"Hallo {} und {}, wie geht es euch?\".format(name_1, name_2))\n",
    "hallo(\"Armin\", \"Peter\")    "
   ]
  },
  {
   "cell_type": "code",
   "execution_count": null,
   "metadata": {
    "collapsed": false
   },
   "outputs": [],
   "source": [
    "def hallo(*namen):\n",
    "    print(\"Hallo {}, wie geht es euch?\".format(namen))\n",
    "hallo(\"Armin\", \"Peter\", \"Klaus\")"
   ]
  },
  {
   "cell_type": "markdown",
   "metadata": {},
   "source": [
    "### Default-Werte\n",
    "* Wenn die Anzahl der Parameter beim Aufruf nicht mit der Anzahl der Parameter der Methode übereinstimmt, klappt der Aufruf nicht\n",
    "* Sonderfall: Default-Werte"
   ]
  },
  {
   "cell_type": "code",
   "execution_count": null,
   "metadata": {
    "collapsed": false
   },
   "outputs": [],
   "source": [
    "def hallo(name=\"Peter\"):\n",
    "    print(\"Hallo {}!\".format(name))\n",
    "\n",
    "hallo(\"Klaus\")\n",
    "hallo()"
   ]
  },
  {
   "cell_type": "code",
   "execution_count": null,
   "metadata": {
    "collapsed": false
   },
   "outputs": [],
   "source": [
    "# Aufgabe: Schreibe eine Methode, die die Summer von 2 Werten ausgibt.\n",
    "\n",
    "# Der Aufruf soll so erfolgen:\n",
    "addiere(1,2)\n",
    "\n",
    "# Was passiert bei diesen Werten?\n",
    "# result = addiere(\"Hello\", \"World\")\n",
    "# result = addiere(1, \"Welt\")"
   ]
  }
 ],
 "metadata": {
  "kernelspec": {
   "display_name": "Python 3",
   "language": "python",
   "name": "python3"
  },
  "language_info": {
   "codemirror_mode": {
    "name": "ipython",
    "version": 3
   },
   "file_extension": ".py",
   "mimetype": "text/x-python",
   "name": "python",
   "nbconvert_exporter": "python",
   "pygments_lexer": "ipython3",
   "version": "3.5.1"
  }
 },
 "nbformat": 4,
 "nbformat_minor": 0
}
