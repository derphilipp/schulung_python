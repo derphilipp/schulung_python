{
 "cells": [
  {
   "cell_type": "markdown",
   "metadata": {},
   "source": [
    "Variablen\n",
    "------------------\n",
    "\n",
    "### Kommentare\n",
    "* Zeilen mit einem # werden ignoriert"
   ]
  },
  {
   "cell_type": "code",
   "execution_count": null,
   "metadata": {
    "collapsed": false
   },
   "outputs": [],
   "source": [
    "# Mein erstes Programm\n",
    "print(\"Hello World\")\n",
    "# print(\"Goodbye World\")"
   ]
  },
  {
   "cell_type": "markdown",
   "metadata": {},
   "source": [
    "### Grundlagen\n",
    "* Variablen werden ohne Typ deklariert, besitzen aber einen\n",
    "* Vergleiche *var* in C# oder *auto* in C++11\n",
    "* Der Typ kann mit der Funktion *type* ermittelt werden"
   ]
  },
  {
   "cell_type": "code",
   "execution_count": null,
   "metadata": {
    "collapsed": false
   },
   "outputs": [],
   "source": [
    "question = \"Heute schon Kaffee gehabt?\"\n",
    "print(question)\n",
    "print(type(question))"
   ]
  },
  {
   "cell_type": "code",
   "execution_count": null,
   "metadata": {
    "collapsed": false
   },
   "outputs": [],
   "source": [
    "# Schreibe ein Programm, in dem Du 3 verschiedene Datentypen anlegst und ihren Typ ausgibst\n",
    "# Erstes Beispiel:\n",
    "a = \"Text\"\n",
    "print(a)\n",
    "print(type(a))\n",
    "\n",
    "#b =  ...\n"
   ]
  },
  {
   "cell_type": "markdown",
   "metadata": {},
   "source": [
    "### int und float\n",
    "* Ganzzahlen: int\n",
    "* Gleitkommazahlen: float"
   ]
  },
  {
   "cell_type": "code",
   "execution_count": null,
   "metadata": {
    "collapsed": false
   },
   "outputs": [],
   "source": [
    "level = 1\n",
    "print(level)\n",
    "print(type(level))\n",
    "\n",
    "percentage = 0.75\n",
    "print(percentage)\n",
    "print(type(percentage))"
   ]
  },
  {
   "cell_type": "markdown",
   "metadata": {},
   "source": [
    "### String\n",
    "* Seit Python 3: Unicode\n",
    "* Verhält sich auch als Liste (später!)\n",
    "* Einfache oder Doppelte Anführungzeichen\n",
    "* Ende '[escapen](http://en.wikipedia.org/wiki/Escape_character)' mit \\n\n",
    "* Drei doppelte Anführungszeichen: Mehrzeiliger String\n"
   ]
  },
  {
   "cell_type": "code",
   "execution_count": null,
   "metadata": {
    "collapsed": false
   },
   "outputs": [],
   "source": [
    "text_1 = \"Guten Morgen!\"\n",
    "text_2 = 'Bonjour!'\n",
    "text_3 = \"\"\"Dies ist ein sehr\n",
    "             sehr\n",
    "             sehr\n",
    "             sehr \n",
    "             sehr langer Text\n",
    "             mit mehreren Zeilen\"\"\"\n",
    "text_4 = \"Dies ist auch ein sehr \\\n",
    "sehr \\\n",
    "sehr \\\n",
    "sehr \\\n",
    "sehr langer Text - aber nur in einer Zeile\"\n",
    "print(text_1)\n",
    "print(text_2)\n",
    "print(text_3)\n",
    "print(text_4)\n",
    "print(type(text_1))\n",
    "print(type(text_2))\n",
    "print(type(text_3))\n",
    "print(type(text_4))"
   ]
  },
  {
   "cell_type": "markdown",
   "metadata": {},
   "source": [
    "### Weitere Dateitypen\n",
    "* Boolean (Wahrheitswert: True oder False)\n",
    "* Complex (Komplexe Zahl, d.h. Real- und Imaginärteil)\n",
    "* None (Das Equivalent zu *null*)\n",
    "* Bytes (Binärdaten, z.B. beim Einlesen von Dateien)"
   ]
  },
  {
   "cell_type": "code",
   "execution_count": null,
   "metadata": {
    "collapsed": false
   },
   "outputs": [],
   "source": [
    "boolean_1 = False\n",
    "print(boolean_1)\n",
    "print(type(boolean_1))\n",
    "\n",
    "boolean_2 = True\n",
    "print(boolean_2)\n",
    "print(type(boolean_2))\n",
    "\n",
    "complex_1 = 5 + 2j\n",
    "print(complex_1)\n",
    "print(type(complex_1))\n",
    "\n",
    "nothing = None\n",
    "print(nothing)\n",
    "print(type(nothing))\n",
    "\n",
    "data = b'DATEN'\n",
    "print(data)\n",
    "print(type(data))"
   ]
  }
 ],
 "metadata": {
  "kernelspec": {
   "display_name": "Python 3",
   "language": "python",
   "name": "python3"
  },
  "language_info": {
   "codemirror_mode": {
    "name": "ipython",
    "version": 3
   },
   "file_extension": ".py",
   "mimetype": "text/x-python",
   "name": "python",
   "nbconvert_exporter": "python",
   "pygments_lexer": "ipython3",
   "version": "3.5.1"
  }
 },
 "nbformat": 4,
 "nbformat_minor": 0
}
