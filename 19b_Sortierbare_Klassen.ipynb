{
 "cells": [
  {
   "cell_type": "markdown",
   "metadata": {},
   "source": [
    "# Sortierbare Klassen\n",
    "* Hat man eigene Klassen definiert, möchte man diese oft in einer Datenstruktur (z.B. Liste halten) und ggf. sortieren.\n",
    "  "
   ]
  },
  {
   "cell_type": "code",
   "execution_count": null,
   "metadata": {},
   "outputs": [],
   "source": [
    "class Person:\n",
    "    def __init__(self, name, department):\n",
    "        self.name = name\n",
    "        self._department = department\n",
    "    \n",
    "    def __str__(self):\n",
    "        return f\"{self.name} works in {self.department}\"\n",
    "    def __repr__(self):\n",
    "        return f\"{self.name} -> {self._department}\"\n",
    "\n",
    "people = [Person(\"Claudia\", \"HR\"), Person(\"Bernd\", \"IT\"), Person(\"Anton\", \"CT\")]\n",
    "print(people)\n",
    "# people.sort() # Funktioniert nicht, da Person nicht sortierbar ist\n",
    "# print(people)"
   ]
  },
  {
   "cell_type": "markdown",
   "metadata": {},
   "source": [
    "## Sortierbar machen\n",
    "* Um eine Klasse sortierbar zu machen, müssen wir sie mit dem `<` Operator vergleichen können.\n",
    "* Um dies zu erreichen implementieren wir die Methode `__lt__` in der Klasse"
   ]
  },
  {
   "cell_type": "code",
   "execution_count": null,
   "metadata": {},
   "outputs": [],
   "source": [
    "class Person:\n",
    "    def __init__(self, name, department):\n",
    "        self.name = name\n",
    "        self._department = department\n",
    "    \n",
    "    def __str__(self):\n",
    "        return f\"{self.name} works in {self.department}\"\n",
    "    def __repr__(self):\n",
    "        return f\"{self.name} -> {self._department}\"\n",
    "    def __lt__(self, other):\n",
    "        return self.name < other.name\n",
    "\n",
    "people = [Person(\"Claudia\", \"HR\"), Person(\"Bernd\", \"IT\"), Person(\"Anton\", \"CT\")]\n",
    "print(people)\n",
    "people.sort() # Funktioniert nicht, da Person nicht sortierbar ist\n",
    "print(people)"
   ]
  },
  {
   "cell_type": "markdown",
   "metadata": {},
   "source": [
    "## Fazit\n",
    "* Mit `__lt__` implementiert können Klassen sortierbar gemacht werden\n",
    "* Hierbei können verschachtelte Vergleiche notwendig sein (z.B. bei einer Person erst nach Nachname, dann nach Vorname zu sortieren)"
   ]
  },
  {
   "cell_type": "markdown",
   "metadata": {},
   "source": [
    "## Aufabe\n",
    "* Erweitere die Klasse `Person` um einen Nachnamen. Beim Sortieren soll erst nach Nachname, dann nach Vorname sortiert werden. Lege hierfür weitere Personen in der Liste an, die \n",
    "    * den gleichen Vornamen, aber unterscheidliche Nachnamen haben\n",
    "    * den gleichen Nachnamen haben, aber unterschiedliche Vornamen\n",
    "* Lege nun zwei komplett identische Personen an (in 2 Variablen) und vergleiche diese. Was passiert?\n",
    "* Versuche ohne weiteres Suchen mittels `__eq__` die Personen vergleichbar zu machen und probiere es aus."
   ]
  },
  {
   "cell_type": "code",
   "execution_count": null,
   "metadata": {},
   "outputs": [],
   "source": []
  }
 ],
 "metadata": {
  "interpreter": {
   "hash": "8418bee04fc5899b974127966ee9ea493507530d95fa09f7bdadeadb3406a965"
  },
  "kernelspec": {
   "display_name": "Python 3.10.2 64-bit",
   "language": "python",
   "name": "python3"
  },
  "language_info": {
   "codemirror_mode": {
    "name": "ipython",
    "version": 3
   },
   "file_extension": ".py",
   "mimetype": "text/x-python",
   "name": "python",
   "nbconvert_exporter": "python",
   "pygments_lexer": "ipython3",
   "version": "3.10.2"
  },
  "orig_nbformat": 4
 },
 "nbformat": 4,
 "nbformat_minor": 2
}
