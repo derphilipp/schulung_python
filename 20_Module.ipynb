{
 "cells": [
  {
   "cell_type": "markdown",
   "metadata": {},
   "source": [
    "Module\n",
    "------------\n",
    "\n",
    "### Grundlagen\n",
    "__Anmerkung: Diese Lektionen funktionieren nicht direkt im IPython Notebook mehr!\n",
    "Jetzt müssen wir Dateien erstellen und die Daten darin speichern.__\n",
    "* Bei größeren Programmen möchte man Teile auslagern\n",
    "* Beispiel: Mathematische Operationen in Extra-Datei auslagern"
   ]
  },
  {
   "cell_type": "code",
   "execution_count": null,
   "metadata": {
    "collapsed": false
   },
   "outputs": [],
   "source": [
    "# mein_modul.py\n",
    "def multiply(a, b):\n",
    "    return a * b"
   ]
  },
  {
   "cell_type": "code",
   "execution_count": null,
   "metadata": {
    "collapsed": false
   },
   "outputs": [],
   "source": [
    "# Hauptprogramm\n",
    "\n",
    "# ...\n",
    "import mein_modul\n",
    "# Anmerkung: Dies funktioniert nicht in IPython Notebook!\n",
    "# ...\n",
    "print(mein_modul.multiply(5,3))"
   ]
  },
  {
   "cell_type": "markdown",
   "metadata": {},
   "source": [
    "* Möchte man einen anderen/kürzeren/besseren Namen für den **Namespace** des Moduls wählen, funktioniert das wie folgt:"
   ]
  },
  {
   "cell_type": "code",
   "execution_count": null,
   "metadata": {
    "collapsed": false
   },
   "outputs": [],
   "source": [
    "# Hauptprogramm\n",
    "# ...\n",
    "import mein_modul as mm\n",
    "# ...\n",
    "print (mm.multiply(5,3))"
   ]
  },
  {
   "cell_type": "markdown",
   "metadata": {},
   "source": [
    "* Möchte man eine, mehrer oder gar alle Dinge eines Moduls in den gegenwärtigen Namespace importieren, funktionert das wie folgt:"
   ]
  },
  {
   "cell_type": "code",
   "execution_count": null,
   "metadata": {
    "collapsed": false
   },
   "outputs": [],
   "source": [
    "# Hauptprogramm\n",
    "# ...\n",
    "from mein_modul import multiply\n",
    "# ...\n",
    "print(multiply(5,3))"
   ]
  },
  {
   "cell_type": "code",
   "execution_count": null,
   "metadata": {
    "collapsed": false
   },
   "outputs": [],
   "source": [
    "# Hauptprogramm\n",
    "# ...\n",
    "from mein_modul import *\n",
    "# ...\n",
    "print(muliply(5,3))"
   ]
  },
  {
   "cell_type": "markdown",
   "metadata": {},
   "source": [
    "__Achtung! Was passiert hier?__"
   ]
  },
  {
   "cell_type": "code",
   "execution_count": null,
   "metadata": {
    "collapsed": false
   },
   "outputs": [],
   "source": [
    "# Hauptprogramm:\n",
    "from mein_modul import *\n",
    "def multiply(a, b):\n",
    "    return a*2*b\n",
    "\n",
    "print(multiply(5,3))"
   ]
  },
  {
   "cell_type": "markdown",
   "metadata": {},
   "source": [
    "__Und hier?__"
   ]
  },
  {
   "cell_type": "code",
   "execution_count": null,
   "metadata": {
    "collapsed": false
   },
   "outputs": [],
   "source": [
    "# Hauptprogramm:\n",
    "def multiply(a, b):\n",
    "    return a*2*b\n",
    "from mein_modul import *\n",
    "\n",
    "print(multiply(5,3))"
   ]
  }
 ],
 "metadata": {
  "kernelspec": {
   "display_name": "Python 3",
   "language": "python",
   "name": "python3"
  },
  "language_info": {
   "codemirror_mode": {
    "name": "ipython",
    "version": 3
   },
   "file_extension": ".py",
   "mimetype": "text/x-python",
   "name": "python",
   "nbconvert_exporter": "python",
   "pygments_lexer": "ipython3",
   "version": "3.5.1"
  }
 },
 "nbformat": 4,
 "nbformat_minor": 0
}
