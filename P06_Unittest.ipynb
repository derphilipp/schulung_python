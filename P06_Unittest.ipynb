{
 "cells": [
  {
   "cell_type": "markdown",
   "metadata": {},
   "source": [
    "Unittests\n",
    "--------------------\n",
    "\n",
    "* Unittests (auch Mikrotests) testen kleinste Methoden und Klassen\n",
    "* Python wird oft sehr stark testgetrieben entwickelt\n",
    "* Aufruf entweder per Programm, welches /unittest.main/ aufruft\n",
    "* Alternative: Schönes Test-Framework: [pytest](http://pytest.org/)\n",
    "* Anmerkung: Funktioniert nicht direkt in IPython Notebook"
   ]
  },
  {
   "cell_type": "code",
   "execution_count": null,
   "metadata": {
    "collapsed": false
   },
   "outputs": [],
   "source": [
    "import unittest\n",
    "\n",
    "\n",
    "def multiply(a, b):\n",
    "    return a + b\n",
    "\n",
    "# Muss mit Test... beginnen!\n",
    "\n",
    "\n",
    "class TestMyTestName(unittest.TestCase):\n",
    "    # Zum \"vorbereiten\" des Tests\n",
    "\n",
    "    def setUp(self):\n",
    "        pass\n",
    "    # Muss mit test... beginnen\n",
    "\n",
    "    def test_MyFirstTest(self):\n",
    "        # Arrange\n",
    "        # Act\n",
    "        result = multiply(7, 5)\n",
    "        # Assert\n",
    "        self.assertEqual(35, result)\n",
    "\n",
    "# Falls diese Datei direkt aufgerufen wird: Unittest starten\n",
    "if __name__ == \"__main__\":\n",
    "    unittest.main()\n"
   ]
  }
 ],
 "metadata": {
  "kernelspec": {
   "display_name": "Python 3",
   "language": "python",
   "name": "python3"
  },
  "language_info": {
   "codemirror_mode": {
    "name": "ipython",
    "version": 3
   },
   "file_extension": ".py",
   "mimetype": "text/x-python",
   "name": "python",
   "nbconvert_exporter": "python",
   "pygments_lexer": "ipython3",
   "version": "3.5.1"
  }
 },
 "nbformat": 4,
 "nbformat_minor": 0
}
