{
 "cells": [
  {
   "cell_type": "markdown",
   "metadata": {},
   "source": [
    "SQLite\n",
    "-------------------\n",
    "\n",
    "* Simple Datenbank\n",
    "* Datenbank komplett in einer Datei beinhaltet\n",
    "* Wenn Du noch nie SQL gesehen hast: Nicht verzweifeln!"
   ]
  },
  {
   "cell_type": "code",
   "execution_count": null,
   "metadata": {
    "collapsed": false
   },
   "outputs": [],
   "source": [
    "# Datenbank erstellen\n",
    "import sqlite3\n",
    "# Verbindung namens \"conn\"\n",
    "conn = sqlite3.connect(\"meineDatenbank.db\")\n",
    "# Cursor erstellen\n",
    "c = conn.cursor()\n",
    "# Alte Tabellen wegwerfen (falls vorhanden)\n",
    "c.execute(\"\"\"drop table if exists person\"\"\")\n",
    "conn.commit()\n",
    "\n",
    "# Erstelle Tabelle namens \"Person\" mit den Spalten \"ID\" und \"FAMILY_NAME\" und \"GIVEN_NAME\"\n",
    "c.execute(\"\"\"create table PERSON (ID INTEGER PRIMARY KEY AUTOINCREMENT,FAMILY_NAME TEXT, GIVEN_NAME TEXT)\"\"\")\n",
    "# Tabele mit Inhalten fuellen\n",
    "c.execute(\"INSERT into person (GIVEN_NAME, FAMILY_NAME) VALUES('Klaus', 'Schmidt')\")\n",
    "c.execute(\"INSERT into person (GIVEN_NAME, FAMILY_NAME) VALUES('Annika', 'Jenneck')\")\n",
    "c.execute(\"INSERT into person (GIVEN_NAME, FAMILY_NAME) VALUES('Petra', 'Reinlich')\")\n",
    "\n",
    "users = c.execute(\"Select * from person\")\n",
    "for user in users:\n",
    "    print (user)\n",
    "    \n",
    "users = c.execute(\"Select * from person\")\n",
    "for id, nachname, vorname in users:\n",
    "    print(\"{} {} hat die ID {}\".format(vorname, nachname, id))\n",
    "    \n",
    "\n",
    "c.close()\n",
    "conn.close()\n"
   ]
  }
 ],
 "metadata": {
  "kernelspec": {
   "display_name": "Python 3",
   "language": "python",
   "name": "python3"
  },
  "language_info": {
   "codemirror_mode": {
    "name": "ipython",
    "version": 3
   },
   "file_extension": ".py",
   "mimetype": "text/x-python",
   "name": "python",
   "nbconvert_exporter": "python",
   "pygments_lexer": "ipython3",
   "version": "3.5.1"
  }
 },
 "nbformat": 4,
 "nbformat_minor": 0
}
