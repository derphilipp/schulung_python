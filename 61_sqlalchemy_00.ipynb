{
 "cells": [
  {
   "cell_type": "markdown",
   "metadata": {},
   "source": [
    "# SQL Alchemy\n",
    "\n",
    "* SQL Alchemy ist ein ORM\n",
    "* Ziel: Dantebank-Abfragen und SQL Wissen zu \"verstecken\"\n",
    "* Objekte sollen \"transparent\" aus der Datebank gelesen und in diese geschrieben werden\n",
    "  \n",
    "## Vorteile vor ORM\n",
    "* Queries ohne Tiefe SQL Kentnisse, sondern einem eigenen (einfachen) Syntax\n",
    "* Zu großen Teilen: unabhängig von der unterliegenden Datenbank\n",
    "* Datenbank-Wechsel möglich, da SQLAlchemy mit verschiedenen Datenbanken \"sprechen\" kann\n",
    "\n",
    "## Nachteile von ORMs:\n",
    "* Binden an System\n",
    "* Performance schlechter als direkter Datenbankzugriff\n",
    "* Ggf. Datenbank-Features durch \"schicht\" nicht (direkt) nutzbar\n",
    "\n",
    "## Beispiel:\n",
    "\n",
    "* Verbinden auf Datenbank `world-db`\n",
    "* Ausführen DIREKTER SQL Statements (immer möglich, geht in der Praxis an der Idee von SQLAlchemy vorbei)"
   ]
  },
  {
   "cell_type": "code",
   "execution_count": 2,
   "metadata": {},
   "outputs": [
    {
     "name": "stdout",
     "output_type": "stream",
     "text": [
      "('PostgreSQL 14.2 (Debian 14.2-1.pgdg110+1) on x86_64-pc-linux-gnu, compiled by gcc (Debian 10.2.1-6) 10.2.1 20210110, 64-bit',)\n"
     ]
    }
   ],
   "source": [
    "import sqlalchemy\n",
    "\n",
    "DB_NAME=\"world-db\"\n",
    "DB_USER=\"world\"\n",
    "DB_PASSWORD=\"world123\"\n",
    "DB_HOST=\"192.168.1.2\"\n",
    "DB_PORT=\"5432\"\n",
    "\n",
    "\n",
    "from sqlalchemy import create_engine\n",
    "\n",
    "engine = create_engine(f'postgresql://{DB_USER}:{DB_PASSWORD}@{DB_HOST}:{DB_PORT}/{DB_NAME}')\n",
    "connection = engine.connect()\n",
    "\n",
    "\n",
    "result = connection.execute(\"SELECT VERSION()\")\n",
    "print(result.fetchone())\n",
    "\n"
   ]
  }
 ],
 "metadata": {
  "interpreter": {
   "hash": "cba2c3b0abe14d5f4b67d1ebd150c45faff7bdaeb215f1ed57745464bd8675ff"
  },
  "kernelspec": {
   "display_name": "Python 3.10.1 64-bit",
   "language": "python",
   "name": "python3"
  },
  "language_info": {
   "codemirror_mode": {
    "name": "ipython",
    "version": 3
   },
   "file_extension": ".py",
   "mimetype": "text/x-python",
   "name": "python",
   "nbconvert_exporter": "python",
   "pygments_lexer": "ipython3",
   "version": "3.10.2"
  },
  "orig_nbformat": 4
 },
 "nbformat": 4,
 "nbformat_minor": 2
}
