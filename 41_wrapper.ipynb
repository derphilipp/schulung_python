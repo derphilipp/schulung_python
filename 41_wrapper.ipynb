{
 "cells": [
  {
   "cell_type": "markdown",
   "metadata": {},
   "source": [
    "# Wrapper\n",
    "## Vorwissen\n",
    "* Mehrere Übergabewerte in Python können als Tupel eingestellt werden:\n",
    "    * `def print(*args)`\n",
    "    * `args` wird hier ein Tupel\n",
    "* Möchte man wirklich \"alles\" an eine Funktion zulassen, nutzt man die Definition\n",
    "    * `def print(*args, **kwargs)`\n",
    "    * `args` wird hier ein Tupel\n",
    "    * `kwargs` wird ein Dictionary\n",
    "* Dies nutzt man für Funktionen mit beliebigen Übergabewerten (z.B. wie `print` etc.) und wenn man eine Funktion Abstrakt beschreiben muss"
   ]
  },
  {
   "cell_type": "markdown",
   "metadata": {},
   "source": [
    "## Wrappen\n",
    "* Wir können Funktionen um Funktionen legen\n",
    "* Dies kann enorm praktisch sein zum Debuggen, Loggen und Testen"
   ]
  },
  {
   "cell_type": "code",
   "execution_count": 4,
   "metadata": {},
   "outputs": [
    {
     "name": "stdout",
     "output_type": "stream",
     "text": [
      "quadrat_summe\n",
      "Summe der Quadrate von 1 bis 10000: 333283335000\n",
      "Used time: 0.0010800361633300781\n"
     ]
    }
   ],
   "source": [
    "from functools import wraps\n",
    "import time\n",
    "\n",
    "def timing(func):\n",
    "    @wraps(func)\n",
    "    def wrapped(*args, **kwargs):\n",
    "        time_start = time.time()\n",
    "        # Aufruf der ursprünglichen Funktion\n",
    "        func(*args, **kwargs)\n",
    "        time_end = time.time()\n",
    "        print(f\"Used time: {time_end-time_start}\")\n",
    "\n",
    "    return wrapped\n",
    "\n",
    "@timing\n",
    "def quadrat_summe(n):\n",
    "    summe = sum(x*x for x in range(n))\n",
    "    print(f\"Summe der Quadrate von 1 bis {n}: {summe}\")\n",
    "\n",
    "quadrat_summe(10000)"
   ]
  },
  {
   "cell_type": "markdown",
   "metadata": {},
   "source": [
    "## Aufgabe\n",
    "* Schreibe eine Wrapper-Funktion, die ausgibt, wenn eine Methode gestartet wird, die Aus¨ührung für eine Sekunde anhält und nach Ende des Stoppens wieder ausgibt, dass es weiter geht\n",
    "* Schreibe eine zweite Wrapper-Funktion, die in einer Datei loggt/schreibt, dass eine Funktion benutzt wird. Schreibe den Namen der Funktion (Tipp: Eigenschaft `__name__` der Funktion) mit Hilfe von logging Funktionen (siehe vorherige Lektion)\n",
    "* Schreibe ein Programm mit einer Funktion, die du mit der ersten UND der zweiten Wrapper-Funktion wrappen kannst"
   ]
  }
 ],
 "metadata": {
  "interpreter": {
   "hash": "8418bee04fc5899b974127966ee9ea493507530d95fa09f7bdadeadb3406a965"
  },
  "kernelspec": {
   "display_name": "Python 3.10.2 64-bit",
   "language": "python",
   "name": "python3"
  },
  "language_info": {
   "codemirror_mode": {
    "name": "ipython",
    "version": 3
   },
   "file_extension": ".py",
   "mimetype": "text/x-python",
   "name": "python",
   "nbconvert_exporter": "python",
   "pygments_lexer": "ipython3",
   "version": "3.10.2"
  },
  "orig_nbformat": 4
 },
 "nbformat": 4,
 "nbformat_minor": 2
}
