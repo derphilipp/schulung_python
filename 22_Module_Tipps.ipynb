{
 "cells": [
  {
   "cell_type": "markdown",
   "metadata": {},
   "source": [
    "Tipps zu Modulen\n",
    "------------------\n",
    "### Tipps\n",
    "\n",
    "* Einige wichtige Module:\n",
    "    * sys System-Spezifisches; Auch: Kommandozeilenargumente in **sys.args**\n",
    "    * os (Betriebssystem Operationen, z.B. 'existiert Datei')\n",
    "    * math (Mathematische Operationen, z.B. math.ceil (Aufrunden))\n",
    "    * re (Reguläre Ausdrücke)\n",
    "    \n",
    "### Weitere tolle Module\n",
    "\n",
    "* Awesome Python Listen!\n",
    "    * [vinta/awesome-python](https://github.com/vinta/awesome-python) Liste mit tollen Python Modulen & Projekten\n",
    "\n",
    "* Nicht bei Python 'von Haus aus' mit dabei, jedoch bei Anaconda Distribution\n",
    "    * [Docopt](http://docopt.org/): Schönes Definieren und Parsen von Kommandozeilenparametern\n",
    "    * [Requests](http://docs.python-requests.org/en/latest/): HTTP Anfragen (\"HTTP for Humans\")\n",
    "    * [Beautifulsoup](http://www.crummy.com/software/BeautifulSoup/): (X)HTML Parsing\n",
    "    * [Pillow](https://pillow.readthedocs.org/): Ver- und Bearbeitung von Bildern\n",
    "    * [Numpy](http://www.numpy.org/): Bilbiothek für Mathematik im großen (Numerik)\n",
    "    * [pyQt](http://www.riverbankcomputing.co.uk/software/pyqt/intro) oder [pyside](http://qt-project.org/wiki/PySide): [Qt](http://qt-project.org/) Binding für Python (Oberflächen Bilbliothek)\n",
    "    * [IPython](http://ipython.org/): Verbesserter Python Prompt, Notebook"
   ]
  },
  {
   "cell_type": "code",
   "execution_count": null,
   "metadata": {
    "collapsed": false
   },
   "outputs": [],
   "source": []
  }
 ],
 "metadata": {
  "kernelspec": {
   "display_name": "Python 3",
   "language": "python",
   "name": "python3"
  },
  "language_info": {
   "codemirror_mode": {
    "name": "ipython",
    "version": 3
   },
   "file_extension": ".py",
   "mimetype": "text/x-python",
   "name": "python",
   "nbconvert_exporter": "python",
   "pygments_lexer": "ipython3",
   "version": "3.5.1"
  }
 },
 "nbformat": 4,
 "nbformat_minor": 0
}
