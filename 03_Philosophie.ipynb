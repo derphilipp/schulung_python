{
 "cells": [
  {
   "cell_type": "markdown",
   "metadata": {},
   "source": [
    "Philosophie\n",
    "-----------------\n",
    "\n",
    "### Ziele des Kurses\n",
    "\n",
    "* Grundlagen von Python\n",
    "* Reinschnuppern\n",
    "* Erstes Gefühl bekommen\n",
    "\n",
    "\n",
    "### Zum Weiterlernen\n",
    "\n",
    "* [Dive into Python 3](http://www.diveintopython3.net)\n",
    "* [The Python Tutorial](https://docs.python.org/3.4/tutorial/) \n",
    "* [Learn Python the Hard Way](http://learnpythonthehardway.org/) (Python 2)\n",
    "* [PyCharm Educational Edition](https://www.jetbrains.com/pycharm-educational/) \n",
    "\n",
    "### The Zen of Python\n",
    "\tThe Zen of Python, by Tim Peters\n",
    "\t\n",
    "\tBeautiful is better than ugly.\n",
    "\tExplicit is better than implicit.\n",
    "\tSimple is better than complex.\n",
    "\tComplex is better than complicated.\n",
    "\tFlat is better than nested.\n",
    "\tSparse is better than dense.\n",
    "\tReadability counts.\n",
    "\tSpecial cases aren't special enough to break the rules.\n",
    "\tAlthough practicality beats purity.\n",
    "\tErrors should never pass silently.\n",
    "\tUnless explicitly silenced.\n",
    "\tIn the face of ambiguity, refuse the temptation to guess.\n",
    "\tThere should be one-- and preferably only one --obvious way to do it.\n",
    "\tAlthough that way may not be obvious at first unless you're Dutch.\n",
    "\tNow is better than never.\n",
    "\tAlthough never is often better than *right* now.\n",
    "\tIf the implementation is hard to explain, it's a bad idea.\n",
    "\tIf the implementation is easy to explain, it may be a good idea.\n"
   ]
  }
 ],
 "metadata": {
  "kernelspec": {
   "display_name": "Python 3",
   "language": "python",
   "name": "python3"
  },
  "language_info": {
   "codemirror_mode": {
    "name": "ipython",
    "version": 3
   },
   "file_extension": ".py",
   "mimetype": "text/x-python",
   "name": "python",
   "nbconvert_exporter": "python",
   "pygments_lexer": "ipython3",
   "version": "3.5.1"
  }
 },
 "nbformat": 4,
 "nbformat_minor": 0
}
