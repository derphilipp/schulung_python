{
 "cells": [
  {
   "cell_type": "markdown",
   "metadata": {},
   "source": [
    "# REST\n",
    "\n",
    "* REST steht für \"Representational State Transfer\"\n",
    "* Ein Paradigma, kein Standard\n",
    "* Statt SOAP und WSDL\n",
    "* URI gibt Ort und Name der Resource, nicht aber Methodeninformation an\n",
    "\n",
    "## Prinzipien\n",
    "* Zustandslos (Server merkt sich keinen Kontext, z.B. die letzten Anfragen und auch keine Zustände)\n",
    "* Einheitliche Schnittstellen (Zugriff auf Resourcen)\n",
    "* Selbstbeschreibende Nachrichten (Clean Code!)\n",
    "* Oft: Rückgabe von Daten in einem JSON-Format, zudem: (HTTP) Statuscode"
   ]
  },
  {
   "cell_type": "markdown",
   "metadata": {},
   "source": [
    "## Hintergrund\n",
    "* Anwendungsbeispiel: Eine TODO-Liste;\n",
    "* Wir können alle Elemente unserer Applikation mit einer URI erreichen\n",
    "    * `https://meinserver/todo/47` Zugriff auf todo Element mit der ID `47`\n",
    "* Mit verschiedenen Addressen können verschiedene Elemente/Daten erreicht und manipuliert werden\n",
    "* Mit verschiedenen Request Typen werden verschiedene Aktionen ausgelöst \n",
    "    * `GET`, `POST`, `DELETE`, `PUT`, `PATCH`\n",
    "* Warum möchte ich denn überhaupt den \"Umweg\" über REST machen, statt z.B. eine Datenbank direkt zuzugreifen?\n",
    "  "
   ]
  },
  {
   "cell_type": "markdown",
   "metadata": {},
   "source": [
    "## Anfrage-Typen\n",
    "\n",
    "### Übersicht\n",
    "\n",
    "* Mit `GET` werden Daten geholt\n",
    "  * `GET /todo/42` liefert die Daten des TODOS mit der ID `42`\n",
    "* Mit `POST` werden (neue) Daten gespeichert\n",
    "  * `POST /todo` erzeugt ein neues TODO\n",
    "* Mit `DELETE` werden Daten gelöscht\n",
    "  * `DELETE /todo/42` löscht ein TODO mit der ID `42`\n",
    "* Mit `PUT` werden alle Daten aktualisiert\n",
    "  * `PUT /todo/42` ändert alle Daten eines TODO mit der ID `42`\n",
    "* Mit `PATCH` werden alle Daten aktualisiert\n",
    "  * `PATCH /todo/42` ändert Datenelemente eines TODO mit der ID `42`\n",
    "  * Wird selten verwendet, da es nur ein Element ist, das geändert werden soll"
   ]
  }
 ],
 "metadata": {
  "language_info": {
   "name": "python"
  },
  "orig_nbformat": 4
 },
 "nbformat": 4,
 "nbformat_minor": 2
}
