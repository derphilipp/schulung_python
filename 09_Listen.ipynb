{
 "cells": [
  {
   "cell_type": "markdown",
   "metadata": {},
   "source": [
    "Listen\n",
    "-------------\n",
    "\n",
    "### Grundlagen\n",
    "\n",
    "* Beinhaltet beliebige Daten\n",
    "* Hat garantierte, eindeutige Reihenfolge (vgl. z.B. Hashes)\n",
    "* Kann gemischte Typen enthalten (z.B. int und string)\n",
    "* Schachtelung möglich (Liste in Liste in Liste ...)"
   ]
  },
  {
   "cell_type": "code",
   "execution_count": null,
   "metadata": {
    "collapsed": false
   },
   "outputs": [],
   "source": [
    "drinks = [\"Kaffee\", \"Milch\", \"Orangensaft\"]\n",
    "print(drinks)"
   ]
  },
  {
   "cell_type": "markdown",
   "metadata": {},
   "source": [
    "### Index\n",
    "* Auf einzelene Elemente kann per Index zugegriffen werden\n",
    "* Der Index beginnt bei 0: d.h. das \"erste\" Element hat den Index 0 (!)"
   ]
  },
  {
   "cell_type": "code",
   "execution_count": null,
   "metadata": {
    "collapsed": false
   },
   "outputs": [],
   "source": [
    "drinks = [\"Kaffee\", \"Milch\", \"Orangensaft\"]\n",
    "print(drinks[0])\n",
    "print(drinks[2])"
   ]
  },
  {
   "cell_type": "markdown",
   "metadata": {},
   "source": [
    "* Mit negativem Index kann von \"hinten her\" auf die Liste zugegriffen werden\n",
    "* -1 bedeutet \"Das letzte Element\", -2 \"das vorletzte\" usw."
   ]
  },
  {
   "cell_type": "code",
   "execution_count": null,
   "metadata": {
    "collapsed": false
   },
   "outputs": [],
   "source": [
    "drinks = [\"Kaffee\", \"Milch\", \"Orangensaft\"]\n",
    "print(drinks[-1])\n",
    "print(drinks[-2])"
   ]
  },
  {
   "cell_type": "markdown",
   "metadata": {},
   "source": [
    "### Listen-Ausschnitte\n",
    "* Ausschnitte von Listen werden nach dem gleichen Prinzip erstellt\n",
    "* Syntax: [__Von__ (inklusive), __bis__ (exklusive)]"
   ]
  },
  {
   "cell_type": "code",
   "execution_count": null,
   "metadata": {
    "collapsed": false
   },
   "outputs": [],
   "source": [
    "drinks = [\"Kaffee\", \"Milch\", \"Orangensaft\", \"Mate\", \"Tee\", \"Cola\"]\n",
    "print(drinks[2:5])\n",
    "# Implizites Ende:\n",
    "print(drinks[2:])\n",
    "# Impliziter Anfang\n",
    "print(drinks[:3])\n",
    "# Ach hier: negative Indizes möglich\n",
    "print(drinks[-4:-1])\n"
   ]
  },
  {
   "cell_type": "markdown",
   "metadata": {},
   "source": [
    "### Schrittweite\n",
    "* Weiteres Syntax-Element: Die Schrittweite:\n",
    "* Syntax: [__Von__ (inklusive), __bis__ (exklusive), __Schrittweite__]"
   ]
  },
  {
   "cell_type": "code",
   "execution_count": null,
   "metadata": {
    "collapsed": false
   },
   "outputs": [],
   "source": [
    "drinks = [\"Kaffee\", \"Milch\", \"Orangensaft\", \"Mate\", \"Tee\", \"Cola\"]\n",
    "# Jedes Element\n",
    "print(drinks[0:6:1])\n",
    "# Jedes Element mit implizitem Anfang und implizitem Ende:\n",
    "print(drinks[::1])\n",
    "# Jedes zweite Element\n",
    "print(drinks[::2])\n",
    "# Jedes Element, verkehrt herum\n",
    "print(drinks[::-1])\n"
   ]
  },
  {
   "cell_type": "markdown",
   "metadata": {},
   "source": [
    "### Vorhandensein\n",
    "* Prüfen, ob ein Objekt in einer Liste vorhanden ist"
   ]
  },
  {
   "cell_type": "code",
   "execution_count": null,
   "metadata": {
    "collapsed": false
   },
   "outputs": [],
   "source": [
    "drinks = [\"Kaffee\", \"Milch\", \"Orangensaft\", \"Mate\", \"Tee\", \"Cola\"]\n",
    "# ...\n",
    "print(\"Mate\" in drinks)\n",
    "# ...\n",
    "print(\"Bier\" in drinks)"
   ]
  },
  {
   "cell_type": "code",
   "execution_count": null,
   "metadata": {
    "collapsed": false
   },
   "outputs": [],
   "source": [
    "# Aufgabe:\n",
    "\n",
    "tiere = [\"Affe\", \"Loewe\", \"Tapir\", \"Orangensaft\", \"Tiger\", \"Tee\", \"Zebra\", \"Gnu\", \"Schaf\", \"Kaffee\"]\n",
    "\n",
    "# Lege eine neue Liste für die Getränke aus der Liste an\n",
    "\n",
    "# Überschreibe die Liste 'tiere' mit einer Liste, in der tatsächlich nur Tiere vorkommen\n",
    "\n",
    "# Bonus: Wie sortiere ich so eine Liste? Aus dem Bauch heraus ausprobieren!\n"
   ]
  }
 ],
 "metadata": {
  "kernelspec": {
   "display_name": "Python 3",
   "language": "python",
   "name": "python3"
  },
  "language_info": {
   "codemirror_mode": {
    "name": "ipython",
    "version": 3
   },
   "file_extension": ".py",
   "mimetype": "text/x-python",
   "name": "python",
   "nbconvert_exporter": "python",
   "pygments_lexer": "ipython3",
   "version": "3.5.1"
  }
 },
 "nbformat": 4,
 "nbformat_minor": 0
}
