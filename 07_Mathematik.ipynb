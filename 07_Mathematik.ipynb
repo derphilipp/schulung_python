{
 "cells": [
  {
   "cell_type": "markdown",
   "metadata": {},
   "source": [
    "Mathematik\n",
    "--------------\n",
    "\n",
    "### Einfache Operationen\n",
    "* Python kann eine Vielzahl von Mathematischen Operationen mit Variablen\n",
    "* Weitere Operationen können in Modulen (später) nachgeladen werden"
   ]
  },
  {
   "cell_type": "code",
   "execution_count": null,
   "metadata": {
    "collapsed": false
   },
   "outputs": [],
   "source": [
    "# Aufgabe: Kommentiere, was welche Zeile bedeutet\n",
    "# Tipp: Ändere den Wert von x zum Ausprobieren \n",
    "\n",
    "x = 5\n",
    "# 5 x 5 = 25\n",
    "print(x * x)\n",
    "# ...\n",
    "print(x / 3)\n",
    "# ...\n",
    "print(x // 3)\n",
    "# ...\n",
    "print(x % 3)\n",
    "# ...\n",
    "print(x ** 3)\n",
    "# ...\n",
    "print(round(x / 3))"
   ]
  },
  {
   "cell_type": "code",
   "execution_count": null,
   "metadata": {
    "collapsed": false
   },
   "outputs": [],
   "source": [
    "# Aufgabe: Schreibe ein Programm, welches Eingaben entgegen nimmt, Berechnungen durchführt und Ergebnis ausgibt für...\n",
    "\n",
    "\n",
    "# Entfernung, Zeit => Geschwindigkeit\n",
    "\n",
    "\n",
    "# Zuckergehalt von Marmelade, Menge an Marmelade => Zuckermenge\n",
    "\n",
    "\n",
    "# Monatliches Gehalt, Anzahl der Arbeitsmonate => Gehalt für diese Zeit\n",
    "\n",
    "\n",
    "# Im Restaurant:\n",
    "# Rechnungsbetrag in Euro (ganzzahliger Wert), Anzahl der Bezahlenden => Betrag pro Person, Wie viel bleibt übrig?\n",
    "# (Beispiel: 4 Euro auf 3 Personen geht nicht auf)\n"
   ]
  }
 ],
 "metadata": {
  "kernelspec": {
   "display_name": "Python 3",
   "language": "python",
   "name": "python3"
  },
  "language_info": {
   "codemirror_mode": {
    "name": "ipython",
    "version": 3
   },
   "file_extension": ".py",
   "mimetype": "text/x-python",
   "name": "python",
   "nbconvert_exporter": "python",
   "pygments_lexer": "ipython3",
   "version": "3.5.1"
  }
 },
 "nbformat": 4,
 "nbformat_minor": 0
}
