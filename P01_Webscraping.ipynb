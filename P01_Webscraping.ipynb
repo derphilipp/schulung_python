{
 "cells": [
  {
   "cell_type": "markdown",
   "metadata": {},
   "source": [
    "Webscraping\n",
    "-------------\n",
    "\n",
    "* Idee: Lade Daten aus dem Internet (Webseiten)\n",
    "* Dabei können Formulare Ausgefüllt oder Suchanfragen gestellt werden\n",
    "* Die Antwort wird gelesen und der für uns relevante Teil herausgezogen werden\n",
    "* Achtung: Das Beispiel ist \"zerbrechlich\": Es braucht online-Zugang und sobald sich die Struktur von http://www.dasoertliche.de ändert funktioniert es nicht mehr."
   ]
  },
  {
   "cell_type": "code",
   "execution_count": 76,
   "metadata": {},
   "outputs": [
    {
     "name": "stdout",
     "output_type": "stream",
     "text": [
      "Rehäußer Wolfgang Raumausstattung Kellerstr. 3, 91315 Höchstadt \n"
     ]
    }
   ],
   "source": [
    "import requests\n",
    "import bs4\n",
    "\n",
    "def search(phone_number):\n",
    "    BASE_URL = r\"https://www.dastelefonbuch.de/R%C3%BCckw%C3%A4rts-Suche/\" \n",
    "    request_url = BASE_URL + phone_number\n",
    "    response = requests.get(request_url)\n",
    "    # -----\n",
    "    soup = bs4.BeautifulSoup(response.text, \"html.parser\")\n",
    "    try:\n",
    "        found_name = soup.findAll(\"div\", {\"class\": \"name\"})[0].get(\"title\")\n",
    "        found_address = soup.findAll(\"a\", {\"class\":\"addr\"})[0].get(\"title\")\n",
    "        return found_name, found_address\n",
    "    except:\n",
    "        return None, None\n",
    "\n",
    "name, address = search(\"091933488\")\n",
    "\n",
    "print(name, address)\n"
   ]
  },
  {
   "cell_type": "code",
   "execution_count": null,
   "metadata": {
    "collapsed": true
   },
   "outputs": [],
   "source": []
  }
 ],
 "metadata": {
  "kernelspec": {
   "display_name": "Python 3",
   "language": "python",
   "name": "python3"
  },
  "language_info": {
   "codemirror_mode": {
    "name": "ipython",
    "version": 3
   },
   "file_extension": ".py",
   "mimetype": "text/x-python",
   "name": "python",
   "nbconvert_exporter": "python",
   "pygments_lexer": "ipython3",
   "version": "3.7.4"
  }
 },
 "nbformat": 4,
 "nbformat_minor": 1
}
