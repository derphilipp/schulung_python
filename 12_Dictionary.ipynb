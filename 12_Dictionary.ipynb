{
 "cells": [
  {
   "cell_type": "markdown",
   "metadata": {},
   "source": [
    "Dictionary\n",
    "---------------\n",
    "### Grundlagen\n",
    "* Ähnlich zu Listen, jedoch: Wertepaar\n",
    "* Eindeutiger Schlüssel und Wert\n",
    "* Schlüssel und Wert: Typ beliebig\n",
    "* Schlüssel muss eindeutig sein\n",
    "* Kein eindeutige Reihenfolge => Kein Indexzugriff\n",
    "* Beispiele:"
   ]
  },
  {
   "cell_type": "code",
   "execution_count": null,
   "metadata": {
    "collapsed": false
   },
   "outputs": [],
   "source": [
    "roman = {\"I\":1, \"V\":5, \"X\":10}\n",
    "print(roman)"
   ]
  },
  {
   "cell_type": "markdown",
   "metadata": {},
   "source": [
    "### Werte-Zugriff\n",
    "* i.d.R. will man auf den Wert zugreifen:"
   ]
  },
  {
   "cell_type": "code",
   "execution_count": null,
   "metadata": {
    "collapsed": false
   },
   "outputs": [],
   "source": [
    "roman = {\"I\":1, \"V\":5, \"X\":10}\n",
    "print(roman[\"I\"])\n",
    "print(roman[\"X\"])\n",
    "\n",
    "# aber nicht:\n",
    "# roman[0]"
   ]
  },
  {
   "cell_type": "markdown",
   "metadata": {},
   "source": [
    "### Schlüssel-Zugriff\n",
    "* Alle Schlüssel ausgeben:"
   ]
  },
  {
   "cell_type": "code",
   "execution_count": null,
   "metadata": {
    "collapsed": false
   },
   "outputs": [],
   "source": [
    "roman = {\"I\":1, \"V\":5, \"X\":10}\n",
    "print(roman.keys())\n"
   ]
  },
  {
   "cell_type": "markdown",
   "metadata": {},
   "source": [
    "### Alle-Werte-Zugriff\n",
    "* Alle Werte ausgeben:"
   ]
  },
  {
   "cell_type": "code",
   "execution_count": null,
   "metadata": {
    "collapsed": false
   },
   "outputs": [],
   "source": [
    "roman = {\"I\":1, \"V\":5, \"X\":10}\n",
    "print(roman.values())"
   ]
  },
  {
   "cell_type": "markdown",
   "metadata": {},
   "source": [
    "### Dictionary Manipulieren\n",
    "* Neue Werte hinzufügen\n",
    "* Werte entfernen\n",
    "* Prüfen, ob Wert vorhanden ist"
   ]
  },
  {
   "cell_type": "code",
   "execution_count": null,
   "metadata": {
    "collapsed": false
   },
   "outputs": [],
   "source": [
    "roman = {\"I\":1, \"V\":5, \"X\":10}\n",
    "print(roman)\n",
    "# ...\n",
    "roman[\"L\"]=50\n",
    "print(roman)\n",
    "# ...\n",
    "del roman[\"I\"]\n",
    "print(roman)\n",
    "# ...\n",
    "print(\"X\" in roman)\n",
    "# ...\n",
    "print(\"C\" in roman)"
   ]
  },
  {
   "cell_type": "code",
   "execution_count": null,
   "metadata": {
    "collapsed": false
   },
   "outputs": [],
   "source": [
    "# Aufgabe: Erstellen Sie ein Lexikon \"Deutsch ==> Englisch\", damit folgende Befehle funktionieren \n",
    "# \n",
    "\n",
    "\n",
    "\n",
    "print(woerterbuch[\"Katze\"])\n",
    "print(woerterbuch[\"Haus\"])\n",
    "print(woerterbuch[\"Zwiebel\"])\n",
    "\n",
    "# Ausgeben: Ist das Wort \"Ja\" im Woerterbuch?\n",
    "\n",
    "# Das Wort \"Ja\" aus dem Woerterbuch loeschen!\n"
   ]
  },
  {
   "cell_type": "markdown",
   "metadata": {},
   "source": [
    "Sets\n",
    "---------------\n",
    "### Grundlagen\n",
    "* Wertemengen\n",
    "* Eindeutige Elemente\n",
    "* Mengen-Operationen möglich"
   ]
  },
  {
   "cell_type": "code",
   "execution_count": null,
   "metadata": {
    "collapsed": false
   },
   "outputs": [],
   "source": [
    "freunde_klaus = {'Monika','Andrea','Armin', 'Brigitte'}\n",
    "freunde_peter = {'Ulf','Jens','Monika', 'Petra'}\n",
    "print(freunde_klaus)\n",
    "print(freunde_peter)\n",
    "\n",
    "# ...\n",
    "print(freunde_klaus - freunde_peter)\n",
    "# ...\n",
    "print(freunde_peter - freunde_klaus)\n",
    "# ...\n",
    "print(freunde_klaus ^ freunde_peter)\n",
    "# ...\n",
    "print(freunde_klaus | freunde_peter)\n",
    "# ...\n",
    "print(freunde_klaus & freunde_peter)\n",
    "# u.v.m."
   ]
  },
  {
   "cell_type": "code",
   "execution_count": null,
   "metadata": {
    "collapsed": false
   },
   "outputs": [],
   "source": [
    "# Ach schreibbar als...\n",
    "freunde_klaus = {'Monika','Andrea','Armin', 'Brigitte'}\n",
    "freunde_peter = {'Ulf','Jens','Monika', 'Petra'}\n",
    "print(freunde_klaus)\n",
    "print(freunde_peter)\n",
    "\n",
    "# ...\n",
    "print(freunde_klaus.difference(freunde_peter))\n",
    "# ...\n",
    "print(freunde_peter.difference(freunde_klaus))\n",
    "# ...\n",
    "print(freunde_klaus.symmetric_difference(freunde_peter))\n",
    "# ...\n",
    "print(freunde_klaus.union(freunde_peter))\n",
    "# ...\n",
    "print(freunde_klaus.intersection(freunde_peter))\n",
    "# u.v.m.\n"
   ]
  },
  {
   "cell_type": "code",
   "execution_count": null,
   "metadata": {
    "collapsed": false
   },
   "outputs": [],
   "source": [
    "# Aufgabe: Ermittle mit Hilfe der folgenden Listen und den Operatoren auf sets folgende Anfragen:\n",
    "things_philipp_likes = { 'improv', 'playing piano', 'cooking', 'python'}\n",
    "things_philipp_does_daily = {'cooking', 'c#'}\n",
    "things_philipp_is_good_at = {'improv', 'cooking', 'python'}\n",
    "\n",
    "# Was mag ich und tu es auch oft?\n",
    "# Was für Dinge sollte ich besser lernen (weil ich es gerne tu, aber nicht gut bin)?\n",
    "# Welche Dinge sollte ich öfter tun (weil ich es gerne tu, aber sie nicht täglich mache)?\n",
    "\n",
    "\n"
   ]
  }
 ],
 "metadata": {
  "kernelspec": {
   "display_name": "Python 3",
   "language": "python",
   "name": "python3"
  },
  "language_info": {
   "codemirror_mode": {
    "name": "ipython",
    "version": 3
   },
   "file_extension": ".py",
   "mimetype": "text/x-python",
   "name": "python",
   "nbconvert_exporter": "python",
   "pygments_lexer": "ipython3",
   "version": "3.5.1"
  }
 },
 "nbformat": 4,
 "nbformat_minor": 0
}
