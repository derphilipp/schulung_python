{
 "cells": [
  {
   "cell_type": "code",
   "execution_count": null,
   "metadata": {
    "collapsed": false
   },
   "outputs": [],
   "source": [
    "%matplotlib inline\n",
    "import pylab\n",
    "import matplotlib.pyplot as plt\n",
    "\n",
    "# ...\n",
    "x = pylab.linspace(0, 4, 10)\n",
    "# ...\n",
    "y_1 = x ** 2\n",
    "y_2 = x ** 2 - 5 \n",
    "\n",
    "pylab.figure()\n",
    "# ...\n",
    "# r == red\n",
    "pylab.plot(x, y_1, 'r')\n",
    "pylab.plot(x, y_2, 'g')\n",
    "pylab.xlabel('x')\n",
    "pylab.ylabel('y')\n",
    "pylab.title('Titel')\n",
    "pylab.show()"
   ]
  },
  {
   "cell_type": "code",
   "execution_count": null,
   "metadata": {
    "collapsed": true
   },
   "outputs": [],
   "source": []
  }
 ],
 "metadata": {
  "kernelspec": {
   "display_name": "Python 3",
   "language": "python",
   "name": "python3"
  },
  "language_info": {
   "codemirror_mode": {
    "name": "ipython",
    "version": 3
   },
   "file_extension": ".py",
   "mimetype": "text/x-python",
   "name": "python",
   "nbconvert_exporter": "python",
   "pygments_lexer": "ipython3",
   "version": "3.5.1"
  }
 },
 "nbformat": 4,
 "nbformat_minor": 0
}
