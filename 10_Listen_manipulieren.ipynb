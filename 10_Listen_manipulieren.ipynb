{
 "cells": [
  {
   "cell_type": "markdown",
   "metadata": {},
   "source": [
    "### Listen manipulieren\n",
    "* Zu Listen können Elemente\n",
    "    * hinzugefügt werden\n",
    "    * gelöscht werden\n",
    "* Listen selbst können\n",
    "    * sortiert werden\n",
    "    * umgedreht werden\n",
    "    * u.v.m.  \n"
   ]
  },
  {
   "cell_type": "code",
   "execution_count": null,
   "metadata": {
    "collapsed": false
   },
   "outputs": [],
   "source": [
    "drinks = [\"Kaffee\", \"Milch\", \"Orangensaft\"]\n",
    "print(drinks)\n",
    "\n",
    "# ...\n",
    "drinks.append(\"Wasser\")\n",
    "print(drinks)\n",
    "\n",
    "# ...\n",
    "drinks.insert(2,\"Kakao\")\n",
    "print(drinks)\n",
    "\n",
    "# ...\n",
    "drinks.remove(\"Kaffee\")\n",
    "print(drinks)"
   ]
  },
  {
   "cell_type": "code",
   "execution_count": null,
   "metadata": {
    "collapsed": false
   },
   "outputs": [],
   "source": [
    "drinks = [\"Kaffee\", \"Milch\", \"Orangensaft\"]\n",
    "print(drinks)\n",
    "\n",
    "# ...\n",
    "print(drinks.pop())\n",
    "print(drinks)\n",
    "\n",
    "print(drinks.pop())\n",
    "print(drinks)\n",
    "\n",
    "print(drinks.pop())\n",
    "print(drinks)\n",
    "\n",
    "# ... ?\n",
    "# print(drinks.pop())\n",
    "# print(drinks)"
   ]
  },
  {
   "cell_type": "code",
   "execution_count": null,
   "metadata": {
    "collapsed": false
   },
   "outputs": [],
   "source": [
    "drinks = [\"Cola\", \"Apfelsaft\", \"Bananen-Nektar\"]\n",
    "print(drinks)\n",
    "# ...\n",
    "drinks.sort()\n",
    "print(drinks)\n",
    "# ...\n",
    "drinks.reverse()\n",
    "print(drinks)\n"
   ]
  },
  {
   "cell_type": "code",
   "execution_count": null,
   "metadata": {
    "collapsed": false
   },
   "outputs": [],
   "source": [
    "# Aufgabe: Schreibe ein Programm, dass 3 Benutzernamen einliest\n",
    "\n",
    "# Dann sollen alle 3 Elemente ausgegeben werden\n",
    "\n",
    "# Dann in umgedrehter Reihenfolge\n",
    "\n",
    "# Dann das mittlere Element\n",
    "\n",
    "# Zuletzt sollen ein Element ausgegeben werden und aus der Liste entfernt\n",
    "# Die verbleibenden 2 Elemente sollen als Liste ausgegeben werden (d.h. die verbleibende Liste ohne das entfernte Element)"
   ]
  }
 ],
 "metadata": {
  "kernelspec": {
   "display_name": "Python 3",
   "language": "python",
   "name": "python3"
  },
  "language_info": {
   "codemirror_mode": {
    "name": "ipython",
    "version": 3
   },
   "file_extension": ".py",
   "mimetype": "text/x-python",
   "name": "python",
   "nbconvert_exporter": "python",
   "pygments_lexer": "ipython3",
   "version": "3.5.1"
  }
 },
 "nbformat": 4,
 "nbformat_minor": 0
}
