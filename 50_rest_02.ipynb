{
 "cells": [
  {
   "cell_type": "markdown",
   "metadata": {},
   "source": [
    "## Beispiele\n",
    "* Online Webservice [httpbin.org](https://httpbin.org/)\n",
    "    * Online-Service zum Ausprobieren\n",
    "    * Genutzt als Beispiel zum Testen, arbeitet mit fake Daten\n",
    "    * Auch lokale deploybar (Docker etc.)"
   ]
  },
  {
   "cell_type": "code",
   "execution_count": null,
   "metadata": {},
   "outputs": [],
   "source": [
    "import requests\n",
    "\n",
    "response = requests.get(\"http://httpbin.org/get\")\n",
    "print('Response from httpbin/get')\n",
    "print(response.json())\n",
    "print()\n",
    "print('response.request.headers')\n",
    "print(response.request.headers)"
   ]
  },
  {
   "cell_type": "code",
   "execution_count": null,
   "metadata": {},
   "outputs": [],
   "source": [
    "import requests \n",
    "\n",
    "payload = {\"key1\": \"value1\", \"key2\": \"value2\"}\n",
    "response = requests.get(\"https://httpbin.org/get\", params=payload)\n",
    "\n",
    "print(response.url)\n",
    "print(response.json())"
   ]
  },
  {
   "cell_type": "code",
   "execution_count": null,
   "metadata": {},
   "outputs": [],
   "source": [
    "from urllib.request import urlopen, Request\n",
    "\n",
    "url = \"http://httpbin.org/get\"\n",
    "\n",
    "httprequest = Request(url, headers={\"Accept\": \"application/json\"})\n",
    "\n",
    "with urlopen(httprequest) as response:\n",
    "    print(response.status)\n",
    "    print(response.read().decode())"
   ]
  }
 ],
 "metadata": {
  "interpreter": {
   "hash": "cba2c3b0abe14d5f4b67d1ebd150c45faff7bdaeb215f1ed57745464bd8675ff"
  },
  "kernelspec": {
   "display_name": "Python 3.10.1 64-bit",
   "language": "python",
   "name": "python3"
  },
  "language_info": {
   "codemirror_mode": {
    "name": "ipython",
    "version": 3
   },
   "file_extension": ".py",
   "mimetype": "text/x-python",
   "name": "python",
   "nbconvert_exporter": "python",
   "pygments_lexer": "ipython3",
   "version": "3.10.1"
  },
  "orig_nbformat": 4
 },
 "nbformat": 4,
 "nbformat_minor": 2
}
