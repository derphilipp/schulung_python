{
 "cells": [
  {
   "cell_type": "markdown",
   "metadata": {},
   "source": [
    "# Erweiterte Klassen\n",
    "* Klassen können weitere, spezielle Methoden haben\n",
    "* Es gibt mit Möglichkeiten, mit speziellen Anweisungen Methoden speziell zu nutzen"
   ]
  },
  {
   "cell_type": "code",
   "execution_count": null,
   "metadata": {},
   "outputs": [],
   "source": [
    "class Person:\n",
    "    def __init__(self, name, department):\n",
    "        self.name = name\n",
    "        self.department = department\n",
    "\n",
    "# Wir instantiieren eine Person...\n",
    "k = Person(\"Kurt\", \"IT\")\n",
    "# ... weisen ihr aber später eine andere Abteilung zu\n",
    "k.department = \"HR\"\n",
    "# ... und dann noch einer langen Schreibweise\n",
    "k.department = \"Human Resources\"\n",
    "\n",
    "print(k)\n",
    "print(k.name)\n",
    "print(k.department)"
   ]
  },
  {
   "cell_type": "markdown",
   "metadata": {},
   "source": [
    "## Bessere Ausgabe\n",
    "* Die Ausgabe von Python Objekten ist recht \"karg\"\n",
    "* Möglichte man eine eigene Ausgabenfunktion schreiben, bietet es sich an, die internen Methoden `__repr__` (für internen Darstellung) bzw. `__str__` (zur Ausgabe, z.B. via print) zu implementieren "
   ]
  },
  {
   "cell_type": "code",
   "execution_count": null,
   "metadata": {},
   "outputs": [],
   "source": [
    "class Person:\n",
    "    def __init__(self, name, department):\n",
    "        self.name = name\n",
    "        self.department = department\n",
    "\n",
    "    def __str__(self):\n",
    "        return f\"{self.name} works in {self.department}\"\n",
    "\n",
    "    def __repr__(self):\n",
    "        return f\"Person {self.name}->{self.deparment}\"\n",
    "\n",
    "k = Person(\"Kurt\", \"IT\")\n",
    "k.department = \"HR\"\n",
    "k.department = \"Human Resources\"\n",
    "\n",
    "print(k)\n",
    "print(k.name)\n",
    "print(k.department)"
   ]
  },
  {
   "cell_type": "markdown",
   "metadata": {},
   "source": [
    "## Private Eigenschaften und Methoden\n",
    "* Python kennt kein `private`, `protected` oder ähnliche Anweisungen um Eigenschaften und Methoden zu schützen\n",
    "* Um Verwendenden zu kommunizieren: Bitte diese Methode/Variable/Eigenschaft nicht anfassen, schreibt man einen Unterstrich vor den Namen, z.B. `_name`\n",
    "* Verwender einer Bibliothek: Variablen/Methoden/Funktionen mit führendem Unterstrich nicht nutzen! (Nur bei Sonderfälle/Ausnahmen: Hacks, Tests, Monkey Patching etc.)"
   ]
  },
  {
   "cell_type": "markdown",
   "metadata": {},
   "source": [
    "## Getter und Setter\n",
    "* Wir wollen nun die vorhandene Klasse \"verbessern\" und wollen nur noch Abteilungen zulassen, die 2 Buchstaben lang sind. Wie können wir das aber nun verhindern, ohne unseren vorhandenen benutzenden Code zu ändern?"
   ]
  },
  {
   "cell_type": "code",
   "execution_count": null,
   "metadata": {},
   "outputs": [],
   "source": [
    "class Person:\n",
    "    def __init__(self, name, department):\n",
    "        self.name = name\n",
    "        self._department = department\n",
    "    \n",
    "    def __str__(self):\n",
    "        return f\"{self.name} works in {self.department}\"\n",
    "\n",
    "    @property\n",
    "    def department(self):\n",
    "        return self._department\n",
    "\n",
    "    @department.setter\n",
    "    def department(self, value):\n",
    "        if len(value)==2:\n",
    "            self._department = value\n",
    "\n",
    "# Wir instantiieren eine Person...\n",
    "k = Person(\"Kurt\", \"IT\")\n",
    "# ... weisen ihr aber später eine andere Abteilung zu\n",
    "k.department = \"HR\"\n",
    "k.department = \"Human Resources\"\n",
    "\n",
    "print(k)"
   ]
  },
  {
   "cell_type": "markdown",
   "metadata": {},
   "source": [
    "## Zusammenfassung\n",
    "* mit `__str__` und `__repr__` können wir die Ausgabe von Objekten deutlich verbessern\n",
    "* Funktionen `get_department` und `set_department` sind \"unpythonic\" und sollten nicht geschrieben werden\n",
    "* In Python schreiben wir Getter und Setter mit den Anweisungen `@property` und `@NAME.setter`"
   ]
  }
 ],
 "metadata": {
  "interpreter": {
   "hash": "8418bee04fc5899b974127966ee9ea493507530d95fa09f7bdadeadb3406a965"
  },
  "kernelspec": {
   "display_name": "Python 3.10.2 64-bit",
   "language": "python",
   "name": "python3"
  },
  "language_info": {
   "codemirror_mode": {
    "name": "ipython",
    "version": 3
   },
   "file_extension": ".py",
   "mimetype": "text/x-python",
   "name": "python",
   "nbconvert_exporter": "python",
   "pygments_lexer": "ipython3",
   "version": "3.10.2"
  },
  "orig_nbformat": 4
 },
 "nbformat": 4,
 "nbformat_minor": 2
}
