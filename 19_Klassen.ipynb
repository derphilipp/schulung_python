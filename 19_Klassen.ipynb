{
 "cells": [
  {
   "cell_type": "markdown",
   "metadata": {},
   "source": [
    "Klassen\n",
    "------------------\n",
    "\n",
    "### Grundlagen\n",
    "* Der Wunsch Daten zu Kapseln: Listen, Dicionaries, ...\n",
    "* Der Wunsch Operationen wieder zu verwenden: Methoden\n",
    "* Der Wunsch Daten und dazu passende Operationen zu Bündeln: Klassen\n",
    "* Definition: Klasse; Instanz einer Klasse: Objekt"
   ]
  },
  {
   "cell_type": "code",
   "execution_count": null,
   "metadata": {
    "collapsed": false
   },
   "outputs": [],
   "source": [
    "class Person(object):\n",
    "    # ...\n",
    "    def __init__(self, name):\n",
    "        # ...\n",
    "        self.name = name\n",
    "    # ...\n",
    "    def greet(self):\n",
    "        print(\"{} sagt Hallo!\".format(self.name))\n",
    "#\n",
    "klaus = Person(\"Klaus\")\n",
    "#\n",
    "peter = Person(\"Peter\")\n",
    "\n",
    "klaus.greet()\n",
    "peter.greet()"
   ]
  },
  {
   "cell_type": "markdown",
   "metadata": {},
   "source": [
    "### Philosophie\n",
    "* Warum self?\n",
    "* ...\n",
    "* Warum self beim Zugriff auf Variablen?\n",
    "* ...\n"
   ]
  },
  {
   "cell_type": "markdown",
   "metadata": {},
   "source": [
    "### Vererbung\n",
    "* Manchmal möchte man Klassen definieren, die aus anderen hervorgehen, d.h. all deren Dinge enthalten - plus eigene\n",
    "* Beispiel:\n",
    "    * Lebewesen\n",
    "        * Säugetiere: Enthält alles, was ein Lebewesen enthält + eigenes\n",
    "            * Mensch: Enthält alles, was ein Säugetier enthält + eigenes\n",
    "            * Hund:  Enthält alles, was ein Säugetier enthält + eigenes\n",
    "* Ziel:\n",
    "    * DRY (Don't repeat yourself)\n",
    "    * Alle Säugetiere und alle Menschen können als Lebewesen behandelt werden\n",
    "    * Hunde und Menschen können als Säugetiere behandelt werden\n",
    "    * Jedoch: Hunde können nicht als Menschen (oder andersum) behandelt werden"
   ]
  },
  {
   "cell_type": "code",
   "execution_count": null,
   "metadata": {
    "collapsed": false
   },
   "outputs": [],
   "source": [
    "class Creature(object):\n",
    "   \n",
    "    def __init__(self, name):\n",
    "        self.name = name\n",
    "    \n",
    "    def live(self):\n",
    "        print(\"I, {}, am living\".format(self.name))\n",
    "\n",
    "# ...\n",
    "class Mammal(Creature):\n",
    "    \n",
    "    def __init__(self, name):\n",
    "        # ...\n",
    "        super().__init__(name)\n",
    "        self.age = 12\n",
    "        \n",
    "    def drink_milk(self):\n",
    "        print(\"Yummy!\")\n",
    "        \n",
    "class Human(Mammal):\n",
    "    def __init__(self, name, haircolor):\n",
    "        # ...\n",
    "        super().__init__(name)\n",
    "        self.haircolor=haircolor\n",
    "        self.name = name\n",
    "    def sing(self):\n",
    "        print(\"Lalala!\")\n",
    "        \n",
    "anne = Human(\"Anne\", \"red\")\n",
    "peter = Human(\"Peter\", \"black\")\n",
    "\n",
    "print(peter.age)\n",
    "anne.sing()"
   ]
  },
  {
   "cell_type": "markdown",
   "metadata": {},
   "source": [
    "### Philosophie\n",
    "* Python ist **egal** von welchem Typ ein Objekt ist, wenn es versucht eine Methode davon aufzurufen\n",
    "* Dabei folgt Python Duck Typing\n",
    "* \"When I see a bird that walks like a duck and swims like a duck and quacks like a duck, I call that bird a duck.\" - James Whitcomb Riley \n",
    "* Vorteil:\n",
    "    * Eigene Objekte können den Zweck anderer Erfüllen\n",
    "    * Leichteres Refactoring möglich\n",
    "    * Keine statischen Abhängigkeiten\n",
    "* Nachteil:\n",
    "    * Keine Typsicherheit\n",
    "    * Abhilfe: Tests schreiben!"
   ]
  },
  {
   "cell_type": "code",
   "execution_count": null,
   "metadata": {
    "collapsed": false
   },
   "outputs": [],
   "source": [
    "# Aufgabe: Erstelle folgende Klassen. Nutze dabei gegebene Eigenschaften/Methoden und sinnvolle Ableitung.\n",
    "# Natürlich haben geerbte Klassen auch die Eigenschaften und Methoden der Eltern-Klassen. Wo macht das Sinn?\n",
    "# Klammern zeigen Methoden an; Die Methoden sollen einen einfachen Text ausgeben\n",
    "# Die Eigenschaften können beliebigen Text beinhalten.\n",
    "# Schreibe auch jeweils einen passenden Konstruktor\n",
    "\n",
    "# Programmierer: trinke_kaffee()\n",
    "# Angestellter: personalnummer\n",
    "# Mensch: vorname, nachname\n",
    "# Python_Programmier: programmiere_python() "
   ]
  }
 ],
 "metadata": {
  "kernelspec": {
   "display_name": "Python 3",
   "language": "python",
   "name": "python3"
  },
  "language_info": {
   "codemirror_mode": {
    "name": "ipython",
    "version": 3
   },
   "file_extension": ".py",
   "mimetype": "text/x-python",
   "name": "python",
   "nbconvert_exporter": "python",
   "pygments_lexer": "ipython3",
   "version": "3.5.1"
  }
 },
 "nbformat": 4,
 "nbformat_minor": 0
}
