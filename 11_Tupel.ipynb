{
 "cells": [
  {
   "cell_type": "markdown",
   "metadata": {},
   "source": [
    "Tupel\n",
    "-----------\n",
    "\n",
    "### Grundlagen\n",
    "\n",
    "* Tupel ähnen Listen\n",
    "* Tupel sind nicht-veränderbar (z.B. sort)\n",
    "* Werden für \"mehrere Werte\" verwendet"
   ]
  },
  {
   "cell_type": "code",
   "execution_count": null,
   "metadata": {
    "collapsed": false
   },
   "outputs": [],
   "source": [
    "# explizit\n",
    "person = (\"Johannes\", \"Jensen\")\n",
    "print(person)\n",
    "print(type(person))\n",
    "\n",
    "# oder implizit \n",
    "person = \"Johannes\", \"Jensen\"\n",
    "print(person)\n",
    "print(type(person))"
   ]
  },
  {
   "cell_type": "markdown",
   "metadata": {},
   "source": [
    "* Zugriff wie bei Listen"
   ]
  },
  {
   "cell_type": "code",
   "execution_count": null,
   "metadata": {
    "collapsed": false
   },
   "outputs": [],
   "source": [
    "person = (\"Johannes\", \"Jensen\")\n",
    "print(person[1])\n",
    "print(person[::-1])\n",
    "\n",
    "# aber nicht:\n",
    "# person.sort()\n",
    "# person.append()\n",
    "# ..."
   ]
  },
  {
   "cell_type": "code",
   "execution_count": null,
   "metadata": {
    "collapsed": false
   },
   "outputs": [],
   "source": [
    "# Aufgabe:\n",
    "#\n",
    "# Machen folgende Konstrukte Sinn - und wenn ja: Finde ein Beispiel.\n",
    "# Es handelt sich um Pseudocode:\n",
    "\n",
    "# Tupel(Liste(String), Liste(String))\n",
    "\n",
    "# Liste(Tupel(String))\n",
    "\n",
    "# Tupel(Tupel(String,String) ,Tupel(String, String))\n"
   ]
  }
 ],
 "metadata": {
  "kernelspec": {
   "display_name": "Python 3",
   "language": "python",
   "name": "python3"
  },
  "language_info": {
   "codemirror_mode": {
    "name": "ipython",
    "version": 3
   },
   "file_extension": ".py",
   "mimetype": "text/x-python",
   "name": "python",
   "nbconvert_exporter": "python",
   "pygments_lexer": "ipython3",
   "version": "3.5.1"
  }
 },
 "nbformat": 4,
 "nbformat_minor": 0
}
