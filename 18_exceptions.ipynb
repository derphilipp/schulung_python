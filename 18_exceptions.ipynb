{
 "cells": [
  {
   "cell_type": "markdown",
   "metadata": {},
   "source": [
    "Exceptions\n",
    "-----------------\n",
    "\n",
    "### Grundlagen\n",
    "* Bei vorherigen Versuchen haben wir stets **Exceptions** ignoriert\n",
    "* Exceptions treten immer dann auf, wenn etwas 'unerwartetes' passiert\n",
    "* Exceptions können von uns 'gefangen' (d.h. abgearbeitet) werden\n",
    "* Exceptions können von uns 'geworfen' (d.h. erzeugt) werden"
   ]
  },
  {
   "cell_type": "code",
   "execution_count": null,
   "metadata": {
    "collapsed": false
   },
   "outputs": [],
   "source": [
    "# Versuche das folgende...\n",
    "try:\n",
    "    text = input()\n",
    "    zahl = int(text)\n",
    "# ...\n",
    "except ValueError:\n",
    "    print(\"That was not a number\")\n",
    "except:\n",
    "    print(\"A different error occured\")"
   ]
  },
  {
   "cell_type": "markdown",
   "metadata": {},
   "source": [
    "### Finally\n",
    "* Da eine Exception an der Stelle des Auftretens mit dem Programm abbricht, möchte man oftmals, dass noch gewisse Aktionen durchgeführt werden"
   ]
  },
  {
   "cell_type": "code",
   "execution_count": null,
   "metadata": {
    "collapsed": false
   },
   "outputs": [],
   "source": [
    "try:\n",
    "    x = 1 / 0\n",
    "    print(\"Can you read this line?\")\n",
    "finally:\n",
    "    print(\"Division by Zero.\")\n",
    "print(\"Or this one?\")\n"
   ]
  },
  {
   "cell_type": "markdown",
   "metadata": {},
   "source": [
    "### Exceptions erzeugen\n",
    "* Manchmal ist es sinnvoll eine Exception zu erzeugen\n",
    "* Beispiel: Einer Berechnungs-Software wird ein Text vorgegeben, anstatt einer Ziffer"
   ]
  },
  {
   "cell_type": "code",
   "execution_count": null,
   "metadata": {
    "collapsed": false
   },
   "outputs": [],
   "source": [
    "def print_number(integer_number):\n",
    "    if type(integer_number) is not int:\n",
    "        raise TypeError(\"'{}' is not an integer number\".format(integer_number))\n",
    "    else:\n",
    "        print(integer_number)\n",
    "\n",
    "print_number(12)\n",
    "print_number(\"Klaus\")"
   ]
  },
  {
   "cell_type": "code",
   "execution_count": null,
   "metadata": {
    "collapsed": false
   },
   "outputs": [],
   "source": [
    "# Versuche 3 verschiedene Arten von Exceptions durch \"böse\" Programme zu erzeugen.\n",
    "# Was könnte man in der Praxis gegen diese tun?"
   ]
  }
 ],
 "metadata": {
  "kernelspec": {
   "display_name": "Python 3",
   "language": "python",
   "name": "python3"
  },
  "language_info": {
   "codemirror_mode": {
    "name": "ipython",
    "version": 3
   },
   "file_extension": ".py",
   "mimetype": "text/x-python",
   "name": "python",
   "nbconvert_exporter": "python",
   "pygments_lexer": "ipython3",
   "version": "3.5.1"
  }
 },
 "nbformat": 4,
 "nbformat_minor": 0
}
