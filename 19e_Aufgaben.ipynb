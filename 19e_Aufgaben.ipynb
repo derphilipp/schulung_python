{
 "cells": [
  {
   "cell_type": "markdown",
   "metadata": {},
   "source": [
    "# Übungen\n",
    "* Folgende Übungen sind jeweils zum alleine oder in Teams üben gedacht"
   ]
  },
  {
   "cell_type": "markdown",
   "metadata": {},
   "source": [
    "## Übung 1\n",
    "### Abschnitt 1.1\n",
    "\n",
    "* Definiere eine Klasse `Mitarbeiter`, der besitzt eine Eindeutige Nummer `id`, einen Namen `name`\n",
    "* Die ID soll durch die Klasse automatisch erzeugt werden und fortlaufend Vergeben werden\n",
    "* Implementiere die Hilfsmethode, damit `Mitarbeiter` schön ausgegeben werden kann\n",
    "* Implementiere alles was notwendig ist, um eine Liste mit Elementen vom Typ `Mitarbeiter` sortieren zu können\n",
    " \n",
    "### Abschnitt 1.2\n",
    "\n",
    "* Definiere eine Klasse `Gehaltsabrechnung` und eine `Lohnabrechnung`. Beide sollen beim Initialisieren erhalten:\n",
    "  * Zeitperiode (einfache Ganzzahl)\n",
    "  * Mitarbeiter\n",
    "* Die `Gehaltsabrechnung` soll zudem `gehalt` als Information beinhalten (beim initialisieren angeben)\n",
    "* Die `Lohnabrechnung` dagegen soll `stundenlohn` (gleitkomma) und `stunden` (ganze Zahl) beinhalten\n",
    "* Beide Klassen sollen `Verdienst` als Methode berechnen können. Noch besser: als Getter implementieren!\n",
    "* Wie könnten die beiden Klassen Vererbung nutzen, um sich nicht zu wiederholen? Typsicherheit mittels mypy?\n",
    "* Die Methode zur Ausgabe von Text soll die Periodennummer, den Namen der/des MitarbeiterIn und \n",
    "den Verdienst zurückgeben"
   ]
  },
  {
   "cell_type": "markdown",
   "metadata": {},
   "source": [
    "# Übung 2\n",
    "## Abschnitt 2.1\n",
    "\n",
    "* Erstelle eine Klasse `Bruch` mit den Attributen `zaehler` und `nenner`\n",
    "* Die Ausgabe der Klasse soll einfach die Werte mit einem Trenner `/` zurückgeben\n",
    "* Weitere Methoden sollen implementiert werden:\n",
    "  * Den Wert, mit Ganzzahl und verbleibendem Bruch (z.B. 7/2 -> 3; 1/2)\n",
    "  * Das Berechnete Ergebnis als Gleitkommazahl\n",
    "  * Ein Wahrheitswert, ob die Berechnung möglich ist (pragmatisches vorgehen mit `try` und `except`)\n",
    "\n",
    "## Abschnitt 2.2\n",
    "\n",
    "* In der Praxis: Nutze statt deiner eigenen Implementierung von Python `from fractions import Fraction`\n",
    "* Versuche: Was kann die Klasse alles noch - wie \"gelungen\" ist deine Klasse?"
   ]
  },
  {
   "cell_type": "markdown",
   "metadata": {},
   "source": [
    "# Übung 3\n",
    "## Abschnitt 3.1\n",
    "\n",
    "* Nutze list comprehensions (`[x for x in range(4,7) ....]`) um eine Liste mit folgenden Eigenschaften zu finden:\n",
    "* Die Werte von 1 bis inklusive 10\n",
    "* Nur die Werte, deren dritte Potenz (\"Hoch 3\") ohne Rest durch 4 Teilbar ist\n",
    "\n",
    "## Abschnitt 3.2\n",
    "* Schreibe die gleiche Aufgabe, aber mit `filter` und `lambda`\n",
    "\n",
    "## Abschnitt 3.3\n",
    "* Nutze liste comprehensions und alternativ `filter` und `lambda` um folgende Listen zu finden:\n",
    "  * Aus dieser Liste: `['Peter', 'Johanna', 'Sasha', 'Elfriede', 'Anna' ]` alle Personen, in deren Name ein `a` vorkommt"
   ]
  },
  {
   "cell_type": "markdown",
   "metadata": {},
   "source": [
    "# Übung 4\n",
    "## Abschnitt 4.1\n",
    "* Erstelle die Klassen `Computer`, `Laptop` und `Desktop` (ein Laptop ist ein Computer, ein Desktop ist ein Computer)\n",
    "* Computer haben einen Namen, einen Hersteller, einen Prozessor und eine Speicherkapazität\n",
    "* Laptops haben zusätzlich eine Bildschirmgröße\n",
    "* Desktops haben eine Gehäusegröße\n",
    "* Lege einen Laptop und einen Desktop an\n",
    "* Schreibe den Laptop und den Desktop jeweils in eine Datei\n",
    "  * Nutze hierfür die `json.dumps` Funktion um das ganze als JSON Datei zu schreiben (mit `objekt.__dict__`)\n",
    "* Versuche eine Liste von Laptops und Desktops zu erstellen und schreibe diese in eine Datei\n",
    "* Hinweis: `json.dumps` nimmt weitere Parameter, die z.B. ein Default verhalten beim Serialisieren von Objekten. Beispiel: `json.dumps(things, default=lambda o:o.__dict__)`\n",
    "\n",
    "# Abschnitt 4.2\n",
    "* Die auf die Festplatte geschriebene Datei soll nun wieder geladen werden\n",
    "* Nutze hierfür `json.loads` mit `j = json.loads(my_element)` und `loadedObject = MyClassName(**j)`"
   ]
  },
  {
   "cell_type": "markdown",
   "metadata": {},
   "source": []
  }
 ],
 "metadata": {
  "interpreter": {
   "hash": "8418bee04fc5899b974127966ee9ea493507530d95fa09f7bdadeadb3406a965"
  },
  "kernelspec": {
   "display_name": "Python 3.10.2 64-bit",
   "language": "python",
   "name": "python3"
  },
  "language_info": {
   "codemirror_mode": {
    "name": "ipython",
    "version": 3
   },
   "file_extension": ".py",
   "mimetype": "text/x-python",
   "name": "python",
   "nbconvert_exporter": "python",
   "pygments_lexer": "ipython3",
   "version": "3.10.2"
  },
  "orig_nbformat": 4
 },
 "nbformat": 4,
 "nbformat_minor": 2
}
