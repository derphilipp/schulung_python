{
 "cells": [
  {
   "cell_type": "markdown",
   "metadata": {},
   "source": [
    "# Logging\n",
    "\n",
    "## Grundlagen\n",
    "* In Python - wie in jeder anderen Programmiersprache kann mit Ausgaben (z.B. `print`) genutzt werden, um sich den Verlauf eines Programms zu protokollieren\n",
    "* Auch mit einem (interaktiven) Debugger kann der Ablauf eines Programms angesehen/überwacht werden\n",
    "* Möchte man aber lang laufende Prozesse überwachen, sind beide Ansätze nicht ausreichend\n",
    "\n",
    "## Lösung: Logging\n",
    "* Mit Logging verbinden wir die einfache Nutzung von `print` mit zusätzlichen Funktionalitäten\n",
    "* Die Eingebaute Logging Bibliothek von Python ist für sehr viele Anwendungsfälle völlig ausreichend\n",
    "* Das Logging kann sowohl in eine Datei als auch (gleichzeitig) auf dem Bildschirm erfolgen\n",
    "\n",
    "## Verwendung\n",
    "* Loggen erfolg in einem \"Level\", der die Dringlichkeit der Meldung angibt (z.B. `DEBUG`, `INFO`, `WARNING`, `ERROR`)\n",
    "* Bei der Konfiguration wird ein Logger erstellt, der die Meldungen in eine Datei schreibt\n",
    "* Der Loglevel bestimmt, welche der Nachrichten überhaupt geschrieben werden\n"
   ]
  },
  {
   "cell_type": "code",
   "execution_count": 5,
   "metadata": {},
   "outputs": [],
   "source": [
    "import logging\n",
    "logging.basicConfig(filename='protokoll.log', encoding='utf-8', level=logging.DEBUG)\n",
    "\n",
    "\n",
    "def division(a, b):\n",
    "    logging.debug(\"Division gestartet\")\n",
    "    if b ==0:\n",
    "        logging.error('Division durch null')\n",
    "        raise ZeroDivisionError('Division durch null')\n",
    "    logging.debug(\"Division beendet\")\n",
    "    return a/b\n",
    "\n",
    "logging.info(\"Programm startet\")\n",
    "x = 7\n",
    "y = 7\n",
    "logging.debug(\"Werte zugewiesen\")\n",
    "result=division(x,y)\n",
    "logging.info(f\"Programm berechnet {result}\")\n",
    "logging.info(\"Programmende\")\n"
   ]
  },
  {
   "cell_type": "markdown",
   "metadata": {},
   "source": [
    "## Augabe\n",
    "* Erweitere den Logger und stelle ein komplett andere Loglevel ein\n",
    "* Schaue in die Python Dokumentation und versuche das Format zu ändern, so dass in jeder Zeile das aktuelle Datum erscheint\n",
    "* Hilfe hierzu: https://docs.python.org/3/library/logging.html#logging.basicConfig"
   ]
  }
 ],
 "metadata": {
  "interpreter": {
   "hash": "e45db07aa8459679523aa8470981d686d4fcd313a05150ae9bd3df92d3094c27"
  },
  "kernelspec": {
   "display_name": "Python 3.10.2 64-bit",
   "language": "python",
   "name": "python3"
  },
  "language_info": {
   "codemirror_mode": {
    "name": "ipython",
    "version": 3
   },
   "file_extension": ".py",
   "mimetype": "text/x-python",
   "name": "python",
   "nbconvert_exporter": "python",
   "pygments_lexer": "ipython3",
   "version": "3.10.2"
  },
  "orig_nbformat": 4
 },
 "nbformat": 4,
 "nbformat_minor": 2
}
