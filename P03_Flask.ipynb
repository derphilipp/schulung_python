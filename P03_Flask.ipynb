{
 "cells": [
  {
   "cell_type": "markdown",
   "metadata": {},
   "source": [
    "Webseite mit Flask\n",
    "-------------\n",
    "\n",
    "* Idee: Dynamische Webseite mit Trennung von Daten und Ansicht ([MVC](http://de.wikipedia.org/wiki/Model_View_Controller))\n",
    "* Es gibt mehrere gute Frameworks\n",
    "* Wahl hier: [Flask](http://de.wikipedia.org/wiki/Flask)\n",
    "    * Sehr klein\n",
    "    * Schnell\n",
    "    * Simpel\n",
    "    * Aber mächtig\n",
    "    * Populär\n",
    "* Funktioniert nicht aus IPython heraus\n",
    "* Beispiel unter *examples/flask* abgelegt\n",
    "* Start von main.py\n"
   ]
  }
 ],
 "metadata": {
  "kernelspec": {
   "display_name": "Python 3",
   "language": "python",
   "name": "python3"
  },
  "language_info": {
   "codemirror_mode": {
    "name": "ipython",
    "version": 3
   },
   "file_extension": ".py",
   "mimetype": "text/x-python",
   "name": "python",
   "nbconvert_exporter": "python",
   "pygments_lexer": "ipython3",
   "version": "3.5.1"
  }
 },
 "nbformat": 4,
 "nbformat_minor": 0
}
