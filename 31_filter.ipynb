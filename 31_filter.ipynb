{
 "cells": [
  {
   "cell_type": "markdown",
   "metadata": {},
   "source": [
    "# Filter & inline `for`\n",
    "\n",
    "Um eine Menge an Daten zu filtern, können wir dies über eine \"klassische\" for Schleife erledigen"
   ]
  },
  {
   "cell_type": "code",
   "execution_count": null,
   "metadata": {},
   "outputs": [],
   "source": [
    "numbers = [1,5,2,1,9,1,5,10]\n",
    "# Filter alle Werte die kleiner als 5 sind aus\n",
    "\n",
    "filtered_numbers = []\n",
    "for i in numbers:\n",
    "    if i >= 5:\n",
    "        filtered_numbers.append(i)\n",
    "print(filtered_numbers)"
   ]
  },
  {
   "cell_type": "markdown",
   "metadata": {},
   "source": [
    "## Filter\n",
    "Statt einer Schleife können wir auch die `filter` Funktionalität machen"
   ]
  },
  {
   "cell_type": "code",
   "execution_count": null,
   "metadata": {},
   "outputs": [],
   "source": [
    "numbers = [1,5,2,1,9,1,5,10]\n",
    "filtered_numbers = filter(lambda i: i >= 5, numbers)\n",
    "print(list(filtered_numbers))"
   ]
  },
  {
   "cell_type": "markdown",
   "metadata": {},
   "source": [
    "## Inline `for`\n",
    "Wieder können wir die inline `for` Schleife verwenden. Sogar `if` ist hier möglich!"
   ]
  },
  {
   "cell_type": "code",
   "execution_count": null,
   "metadata": {},
   "outputs": [],
   "source": [
    "numbers = [1,5,2,1,9,1,5,10]\n",
    "filtered_numbers = [i for i in numbers if i >= 5]\n",
    "print(list(filtered_numbers))"
   ]
  },
  {
   "cell_type": "markdown",
   "metadata": {},
   "source": [
    "## Aufgabe\n",
    "\n",
    "Nutze den Generator, der eine Datei ausliest aus der vorherigen Übung.\n",
    "Gebe nur die Zeilen aus, die eine ungerade Anzahl an Buchstaben haben.\n",
    "\n",
    "Löse das ganze mit...\n",
    "* Eine \"normalen\" Schleife\n",
    "* `filter` und einer Lambda Funktion\n",
    "* Einer inline `for` Schleife"
   ]
  },
  {
   "cell_type": "code",
   "execution_count": null,
   "metadata": {},
   "outputs": [],
   "source": [
    "def read_file():\n",
    "    txt = []\n",
    "    f = open(\"text_example.txt\", \"r\")\n",
    "    for line in f:\n",
    "        yield line\n",
    "# ..."
   ]
  }
 ],
 "metadata": {
  "interpreter": {
   "hash": "8418bee04fc5899b974127966ee9ea493507530d95fa09f7bdadeadb3406a965"
  },
  "kernelspec": {
   "display_name": "Python 3.10.2 64-bit",
   "language": "python",
   "name": "python3"
  },
  "language_info": {
   "codemirror_mode": {
    "name": "ipython",
    "version": 3
   },
   "file_extension": ".py",
   "mimetype": "text/x-python",
   "name": "python",
   "nbconvert_exporter": "python",
   "pygments_lexer": "ipython3",
   "version": "3.10.2"
  },
  "orig_nbformat": 4
 },
 "nbformat": 4,
 "nbformat_minor": 2
}
