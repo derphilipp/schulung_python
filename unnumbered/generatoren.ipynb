{
 "cells": [
  {
   "cell_type": "markdown",
   "metadata": {},
   "source": [
    "Generatoren\n",
    "------------------\n",
    "\n",
    "### Grundlagen\n",
    "* Grundlagen: Lazy evaluation / Lazy Loading\n",
    "* z.B. Eigene Typen sollen dynamisch Rückgabewerte generieren\n",
    "* Aber:\n",
    "* Aber: Manchmal sind die Generatoren unendlich (z.B. \"Generiere alle Primzahlen\")\n",
    "    * Unendlich viele Werte werden ermitteln\n",
    "    * Die Berechnung der Zahlen dauert immer länger\n",
    "* Zudem: Status soll erhalten werden\n",
    "    * Beispiel: Abarbeiten von Benutzern aus einer externen (langsamen) Datenquelle"
   ]
  },
  {
   "cell_type": "code",
   "execution_count": 10,
   "metadata": {},
   "outputs": [
    {
     "name": "stdout",
     "output_type": "stream",
     "text": [
      "John\n",
      "Marsha\n",
      "Mike\n",
      "Bob\n",
      "xxxxxxxxxxxxxxxxxxxx\n",
      "John\n",
      "Marsha\n",
      "Mike\n",
      "Bob\n"
     ]
    }
   ],
   "source": [
    "class UserData:\n",
    "    def __init__(self, max=4):\n",
    "        # Erfundene Daten\n",
    "        self.n = 0\n",
    "        self.max = max\n",
    "        self.userdata = [\"John\",\"Marsha\",\"Mike\",\"Bob\",\"Marie\", \"Sonny\",\"Augustus\", \"Jessie\"]\n",
    "\n",
    "    def __iter__(self):\n",
    "        return self\n",
    "\n",
    "    def __next__(self):\n",
    "        if self.n >= self.max:\n",
    "            raise StopIteration\n",
    "\n",
    "        result = self.userdata[self.n]\n",
    "        self.n += 1\n",
    "        return result\n",
    "\n",
    "    # Benutzung jetzt:\n",
    "\n",
    "users = UserData()\n",
    "print(next(users))\n",
    "print(next(users))\n",
    "print(next(users))\n",
    "print(next(users))\n",
    "\n",
    "print (20*\"x\")\n",
    "\n",
    "other_users = UserData()\n",
    "for other_user in other_users:\n",
    "    print(other_user)\n"
   ]
  },
  {
   "cell_type": "markdown",
   "metadata": {},
   "source": [
    "* `users` hält also seinen Zustand\n",
    "* Auch schleifen sind möglich"
   ]
  },
  {
   "cell_type": "code",
   "execution_count": 11,
   "metadata": {},
   "outputs": [
    {
     "name": "stdout",
     "output_type": "stream",
     "text": [
      "John\n",
      "Marsha\n",
      "Mike\n",
      "Bob\n",
      "xxxxxxxxxxxxxxxxxxxx\n",
      "John\n",
      "Marsha\n",
      "Mike\n",
      "Bob\n"
     ]
    }
   ],
   "source": [
    "# Rewrite von UserData als Generator Funktion\n",
    "def UserData(max=3):\n",
    "    userdata = [\"John\",\"Marsha\",\"Mike\",\"Bob\",\"Marie\", \"Sonny\",\"Augustus\", \"Jessie\"]\n",
    "    n = 0\n",
    "    while n <= max:\n",
    "        yield userdata[n]\n",
    "        n += 1\n",
    "\n",
    "# Benutzung identisch!\n",
    "\n",
    "users = UserData()\n",
    "print(next(users))\n",
    "print(next(users))\n",
    "print(next(users))\n",
    "print(next(users))\n",
    "\n",
    "print (20*\"x\")\n",
    "\n",
    "other_users = UserData()\n",
    "for other_user in other_users:\n",
    "    print(other_user)\n"
   ]
  },
  {
   "cell_type": "markdown",
   "metadata": {},
   "source": [
    "* `yield` statt `return`: Behält den Zustand der Funktion und gibt einen Wert zur¨ück\n",
    "* Bringt dann automatisch `__iter__` und `__next__`mit"
   ]
  },
  {
   "cell_type": "markdown",
   "metadata": {},
   "source": [
    "## Aufgaben\n",
    "1. Schreibe folgende Funktion in einen Genereator um, die Fibonacci-Zahlen generiert. Gebe die ersten 10 Zahlen aus.\n",
    "2. Schreibe Generator-Funktion, die Quadratzahlen generiert. Gebe die ersten Zehn zahlen aus.\n",
    "3. Nutze die Generatoren so miteinander, so dass die quadrierten Fibonacci-Zahlen generiert werden. Gebe die ersten zehn Zahlen aus.\n"
   ]
  },
  {
   "cell_type": "code",
   "execution_count": 16,
   "metadata": {},
   "outputs": [
    {
     "name": "stdout",
     "output_type": "stream",
     "text": [
      "0\n",
      "1\n",
      "2\n",
      "3\n",
      "4\n",
      "5\n",
      "6\n",
      "7\n",
      "8\n",
      "9\n",
      "10\n",
      "11\n",
      "12\n",
      "13\n",
      "14\n",
      "15\n",
      "16\n",
      "17\n",
      "18\n",
      "19\n",
      "20\n",
      "21\n",
      "22\n",
      "23\n",
      "24\n",
      "25\n",
      "26\n",
      "27\n",
      "28\n",
      "29\n",
      "30\n",
      "31\n",
      "32\n",
      "33\n",
      "34\n",
      "35\n",
      "36\n",
      "37\n",
      "38\n",
      "39\n",
      "[0, 1, 1, 2, 3, 5, 8, 13, 21, 34, 55, 89, 144, 233, 377, 610, 987, 1597, 2584, 4181, 6765, 10946, 17711, 28657, 46368, 75025, 121393, 196418, 317811, 514229, 832040, 1346269, 2178309, 3524578, 5702887, 9227465, 14930352, 24157817, 39088169, 63245986]\n"
     ]
    }
   ],
   "source": [
    "def fibonacci(n):\n",
    "    if n in {0, 1}: \n",
    "        return n\n",
    "    return fibonacci(n - 1) + fibonacci(n - 2)\n",
    "\n",
    "def fibonacci_gen():\n",
    "    result = []\n",
    "    for i in range(0,40):\n",
    "        print(i)\n",
    "        result.append(fibonacci(i))\n",
    "    return result\n",
    "\n",
    "\n",
    "print(fibonacci_gen())"
   ]
  }
 ],
 "metadata": {
  "interpreter": {
   "hash": "8418bee04fc5899b974127966ee9ea493507530d95fa09f7bdadeadb3406a965"
  },
  "kernelspec": {
   "display_name": "Python 3.10.2 64-bit",
   "language": "python",
   "name": "python3"
  },
  "language_info": {
   "codemirror_mode": {
    "name": "ipython",
    "version": 3
   },
   "file_extension": ".py",
   "mimetype": "text/x-python",
   "name": "python",
   "nbconvert_exporter": "python",
   "pygments_lexer": "ipython3",
   "version": "3.10.2"
  },
  "orig_nbformat": 4
 },
 "nbformat": 4,
 "nbformat_minor": 2
}
