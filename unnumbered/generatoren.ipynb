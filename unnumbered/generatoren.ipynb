{
 "cells": [
  {
   "cell_type": "markdown",
   "metadata": {},
   "source": [
    "Generatoren\n",
    "------------------\n",
    "\n",
    "### Grundlagen\n",
    "* Grundlagen: Lazy evaluation / Lazy Loading\n",
    "* z.B. Eigene Typen sollen dynamisch Rückgabewerte generieren\n",
    "* Aber:\n",
    "* Aber: Manchmal sind die Generatoren unendlich (z.B. \"Generiere alle Primzahlen\")\n",
    "    * Unendlich viele Werte werden ermitteln\n",
    "    * Die Berechnung der Zahlen dauert immer länger\n",
    "* Zudem: Status soll erhalten werden\n",
    "    * Beispiel: Abarbeiten von Benutzern aus einer externen (langsamen) Datenquelle"
   ]
  },
  {
   "cell_type": "code",
   "execution_count": null,
   "metadata": {},
   "outputs": [],
   "source": [
    "class UserData:\n",
    "    def __init__(self, max=4):\n",
    "        # Erfundene Daten\n",
    "        self.n = 0\n",
    "        self.max = max\n",
    "        self.userdata = [\"John\",\"Marsha\",\"Mike\",\"Bob\",\"Marie\", \"Sonny\",\"Augustus\", \"Jessie\"]\n",
    "\n",
    "    def __iter__(self):\n",
    "        return self\n",
    "\n",
    "    def __next__(self):\n",
    "        if self.n >= self.max:\n",
    "            raise StopIteration\n",
    "\n",
    "        result = self.userdata[self.n]\n",
    "        self.n += 1\n",
    "        return result\n",
    "\n",
    "    # Benutzung jetzt:\n",
    "\n",
    "users = UserData()\n",
    "print(next(users))\n",
    "print(next(users))\n",
    "print(next(users))\n",
    "print(next(users))\n",
    "\n",
    "print (20*\"x\")\n",
    "\n",
    "other_users = UserData()\n",
    "for other_user in other_users:\n",
    "    print(other_user)\n"
   ]
  },
  {
   "cell_type": "markdown",
   "metadata": {},
   "source": [
    "* `users` hält also seinen Zustand\n",
    "* Auch schleifen sind möglich"
   ]
  },
  {
   "cell_type": "code",
   "execution_count": null,
   "metadata": {},
   "outputs": [],
   "source": [
    "# Rewrite von UserData als Generator Funktion\n",
    "def UserData(max=3):\n",
    "    userdata = [\"John\",\"Marsha\",\"Mike\",\"Bob\",\"Marie\", \"Sonny\",\"Augustus\", \"Jessie\"]\n",
    "    n = 0\n",
    "    while n <= max:\n",
    "        yield userdata[n]\n",
    "        n += 1\n",
    "\n",
    "# Benutzung identisch!\n",
    "\n",
    "users = UserData()\n",
    "print(next(users))\n",
    "print(next(users))\n",
    "print(next(users))\n",
    "print(next(users))\n",
    "\n",
    "print (20*\"x\")\n",
    "\n",
    "other_users = UserData()\n",
    "for other_user in other_users:\n",
    "    print(other_user)\n"
   ]
  },
  {
   "cell_type": "markdown",
   "metadata": {},
   "source": [
    "* `yield` statt `return`: Behält den Zustand der Funktion und gibt einen Wert zur¨ück\n",
    "* Bringt dann automatisch `__iter__` und `__next__`mit"
   ]
  },
  {
   "cell_type": "markdown",
   "metadata": {},
   "source": [
    "## Aufgaben\n",
    "1. Schreibe folgende Funktion in einen Generator um, die eine Datei ausliest und jede Zeile zurückgibt.\n"
   ]
  },
  {
   "cell_type": "code",
   "execution_count": null,
   "metadata": {},
   "outputs": [],
   "source": [
    "def read_file():\n",
    "    txt = []\n",
    "    f = open(\"text_example.txt\", \"r\")\n",
    "    for line in f:\n",
    "        txt.append(line)\n",
    "    return txt\n",
    "\n",
    "s = read_file()\n",
    "for x in s:\n",
    "    print(x, end=\"\")"
   ]
  }
 ],
 "metadata": {
  "interpreter": {
   "hash": "8418bee04fc5899b974127966ee9ea493507530d95fa09f7bdadeadb3406a965"
  },
  "kernelspec": {
   "display_name": "Python 3.10.2 64-bit",
   "language": "python",
   "name": "python3"
  },
  "language_info": {
   "codemirror_mode": {
    "name": "ipython",
    "version": 3
   },
   "file_extension": ".py",
   "mimetype": "text/x-python",
   "name": "python",
   "nbconvert_exporter": "python",
   "pygments_lexer": "ipython3",
   "version": "3.10.2"
  },
  "orig_nbformat": 4
 },
 "nbformat": 4,
 "nbformat_minor": 2
}
