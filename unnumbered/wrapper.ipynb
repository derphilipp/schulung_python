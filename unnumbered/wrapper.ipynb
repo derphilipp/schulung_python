{
 "cells": [
  {
   "cell_type": "markdown",
   "metadata": {},
   "source": [
    "# Wrapper\n",
    "* Wir können Funktionen um Funktionen legen\n",
    "* Dies kann enorm praktisch sein zum Debuggen, Loggen und Testen"
   ]
  },
  {
   "cell_type": "code",
   "execution_count": 3,
   "metadata": {},
   "outputs": [
    {
     "name": "stdout",
     "output_type": "stream",
     "text": [
      "Summe der Quadrate von 1 bis 100: 328350\n",
      "Used time: 0.0002288818359375\n"
     ]
    }
   ],
   "source": [
    "from functools import wraps\n",
    "import time\n",
    "\n",
    "def timing(func):\n",
    "    @wraps(func)\n",
    "    def wrapped(*args, **kwargs):\n",
    "        time_start = time.time()\n",
    "        # Aufruf der ursprünglichen Funktion\n",
    "        func(*args, **kwargs)\n",
    "        time_end = time.time()\n",
    "        print(f\"Used time: {time_end-time_start}\")\n",
    "\n",
    "    return wrapped\n",
    "\n",
    "@timing\n",
    "def quadrat_summe(n):\n",
    "    summe = sum(x*x for x in range(n))\n",
    "    print(f\"Summe der Quadrate von 1 bis {n}: {summe}\")\n",
    "\n",
    "quadrat_summe(10000)"
   ]
  }
 ],
 "metadata": {
  "interpreter": {
   "hash": "8418bee04fc5899b974127966ee9ea493507530d95fa09f7bdadeadb3406a965"
  },
  "kernelspec": {
   "display_name": "Python 3.10.2 64-bit",
   "language": "python",
   "name": "python3"
  },
  "language_info": {
   "codemirror_mode": {
    "name": "ipython",
    "version": 3
   },
   "file_extension": ".py",
   "mimetype": "text/x-python",
   "name": "python",
   "nbconvert_exporter": "python",
   "pygments_lexer": "ipython3",
   "version": "3.10.2"
  },
  "orig_nbformat": 4
 },
 "nbformat": 4,
 "nbformat_minor": 2
}
