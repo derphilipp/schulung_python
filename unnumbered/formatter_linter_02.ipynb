{
 "cells": [
  {
   "cell_type": "markdown",
   "metadata": {},
   "source": [
    "# Linter\n",
    "## MyPy\n",
    "* Python ist eine Sprache mit *dynamischer*, aber *starker* Typisierung\n",
    "* Vorteile: Duck-Typing, einfache Erweiterbarkeit\n",
    "* Nachteile: Kein Typ-Check zur \"Compilezeit\"\n",
    "\n",
    "## Abhilfe: MyPy\n",
    "* Seit Python 3.5: Type Hints\n",
    "* Eingebaut in Python *Hinweise* auf Typen zu geben (Übergabewerte, Rückgabewerte, ...)\n",
    "* Nur, mit weiteren Werkzeugen werden diese auch ausgewertet\n",
    "* Mit \"normalem\" Python werden diese komplett ignoriert!\n",
    "* Aber: Mit extra-Werkzeugen (hier: `mypy`) kann dieses Vor dem Start ausgewertet werden\n",
    "* Integration in VSCode und PyCharm\n",
    "\n",
    "## Konfiguration\n",
    "* Installation: (`pip install mypy`)\n",
    "* Beispiele: In `examples/linter/01_mypy`\n"
   ]
  }
 ],
 "metadata": {
  "interpreter": {
   "hash": "cba2c3b0abe14d5f4b67d1ebd150c45faff7bdaeb215f1ed57745464bd8675ff"
  },
  "kernelspec": {
   "display_name": "Python 3.10.1 64-bit",
   "language": "python",
   "name": "python3"
  },
  "language_info": {
   "name": "python",
   "version": "3.10.1"
  },
  "orig_nbformat": 4
 },
 "nbformat": 4,
 "nbformat_minor": 2
}
