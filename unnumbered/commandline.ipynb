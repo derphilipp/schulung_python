{
 "cells": [
  {
   "cell_type": "markdown",
   "metadata": {},
   "source": [
    "# Kommandozeile\n",
    "* Viele Werkzeuge zur Automatisierung (u.ä.) funktionieren als Kommandozeilenwerkzeuge\n",
    "* Hierbei werden Übergabewerte auf der Kommandozeile eingelesen und bestimmen die Funktionalität des Programms\n",
    "* Wie können wir selbst auf diese zugreifen - und die macht man das in der Praxis?\n",
    "\n",
    "## Vorwissen\n",
    "* Ein Python Programm wird Zeile für Zeile abgearbeitet\n",
    "* Aber wie unterscheidet man, ob ein Programm als Bibliothek geladen wird (`import meinprogramm`) oder selbst gestartet `python meinprogramm`?\n",
    "* Hilfe: Explizites definieren einer `main` Funktion"
   ]
  },
  {
   "cell_type": "code",
   "execution_count": null,
   "metadata": {},
   "outputs": [],
   "source": [
    "#!/usr/bin/env python3\n",
    "# -*- coding: utf-8 -*-\n",
    "\n",
    "def main():\n",
    "    print(\"Hello World!\")\n",
    "\n",
    "# Check, ob diese Datei gerade im Interpreter geladen und gestartet wurde\n",
    "if __name__ == \"__main__\":\n",
    "    main()"
   ]
  },
  {
   "cell_type": "markdown",
   "metadata": {},
   "source": [
    "## sys.args\n",
    "* Um Kommandozeileoptionen zu laden, brauchen wir nur aus der Bibliothek `sys` die Variable `argv` zu lesen. Sie beinhaltet alle Übergabewerte\n",
    "* Dies beinhaltet auch den Namen des Skripts selbst\n",
    "* Achtung: Im Jupyter Notebook wird hier ein Hilfsprogramm und eine temporär erzeugte Datei angezeigt"
   ]
  },
  {
   "cell_type": "code",
   "execution_count": null,
   "metadata": {},
   "outputs": [],
   "source": [
    "#!/usr/bin/env python3\n",
    "# -*- coding: utf-8 -*-\n",
    "import sys\n",
    "\n",
    "def main():\n",
    "    print(sys.argv)\n",
    "\n",
    "# Check, ob diese Datei gerade im Interpreter geladen und gestartet wurde\n",
    "if __name__ == \"__main__\":\n",
    "    main()"
   ]
  },
  {
   "cell_type": "markdown",
   "metadata": {},
   "source": [
    "## Click\n",
    "* Mit `sys.argv` können wir z.B. eine Liste von Dateien abarbeiten\n",
    "* Für komplexere Programme muss hier aber mehr gemacht werden\n",
    "* Beispiel:\n",
    "  * Ein Programm zum Packen und Entpacken von Dateien\n",
    "  * Entpacken: `-x`\n",
    "  * Packen: `-a`\n",
    "  * Verbose: `-v`\n",
    "  * Nun gibt es bestimmte Kombinationen, die gültig sind (`-x` und `-v` zugleich)\n",
    "  * Andere sind nicht möglich (nur `-v`; `-x` und `-a` zugleich)\n",
    "  * Spätestens hier will meine eine Hilfsbibliothek nutzen (Fehlermeldungen, Kombinationen abfangen, usw.)\n",
    "* Beispielprogramm hier (Funktioniert NICHT in jupyter)"
   ]
  },
  {
   "cell_type": "code",
   "execution_count": null,
   "metadata": {},
   "outputs": [],
   "source": [
    "import click\n",
    "import time\n",
    "\n",
    "def fake_ping(address):\n",
    "    click.echo(f\"Ping sent to {address}... \")\n",
    "    time.sleep(1)\n",
    "\n",
    "\n",
    "@click.command()\n",
    "@click.option('--count', default=1, help='How many pings to send.')\n",
    "@click.option('--address', prompt='IP address', help='IP address to send the ping to.')\n",
    "def hello(count, address):\n",
    "    \"\"\"Programm to send a ping\"\"\"\n",
    "    for x in range(count):\n",
    "        fake_ping(address)\n",
    "\n",
    "if __name__ == '__main__':\n",
    "    hello()"
   ]
  }
 ],
 "metadata": {
  "interpreter": {
   "hash": "8418bee04fc5899b974127966ee9ea493507530d95fa09f7bdadeadb3406a965"
  },
  "kernelspec": {
   "display_name": "Python 3.10.2 64-bit",
   "language": "python",
   "name": "python3"
  },
  "language_info": {
   "codemirror_mode": {
    "name": "ipython",
    "version": 3
   },
   "file_extension": ".py",
   "mimetype": "text/x-python",
   "name": "python",
   "nbconvert_exporter": "python",
   "pygments_lexer": "ipython3",
   "version": "3.10.2"
  },
  "orig_nbformat": 4
 },
 "nbformat": 4,
 "nbformat_minor": 2
}
