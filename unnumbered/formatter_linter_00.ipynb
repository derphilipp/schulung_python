{
 "cells": [
  {
   "cell_type": "markdown",
   "metadata": {},
   "source": [
    "# Formatter\n",
    "## Basis\n",
    "* Python hat \n",
    "  * gewisse Formatierungs-Vorraussetzungen\n",
    "  * community getriebene Formatierungs Empfehlungen\n",
    "* Formatter wenden diese Vorschläge an, größtenteils automatisch\n",
    "\n",
    "## Vorschläge\n",
    "* [black](https://github.com/psf/black) Formatter\n",
    "* Ist sehr verbreitet\n",
    "* Bringt \"sane defaults\" mit, die meisten Einstellungen sind schon \"sehr gut\"\n",
    "* Nachteil: Kaum Einstellungs Möglichkeiten vorhanden\n",
    "\n",
    "## Konfiguration\n",
    "* Installation: (`pip install black`)\n",
    "* Weitere Einstellungen, wie z.B. maximale Zeilenlänge, Python Version oder zu ignorierende Dateien:\n",
    "\n",
    "```ini\n",
    "# Dateiname: pyproject.toml\n",
    "\n",
    "[tool.black]\n",
    "line-length = 120\n",
    "target-version = ['py39']\n",
    "exclude = '''\n",
    "/(\n",
    "  | examples\n",
    ")/\n",
    "``` "
   ]
  }
 ],
 "metadata": {
  "interpreter": {
   "hash": "cba2c3b0abe14d5f4b67d1ebd150c45faff7bdaeb215f1ed57745464bd8675ff"
  },
  "kernelspec": {
   "display_name": "Python 3.10.1 64-bit",
   "language": "python",
   "name": "python3"
  },
  "language_info": {
   "name": "python",
   "version": "3.10.1"
  },
  "orig_nbformat": 4
 },
 "nbformat": 4,
 "nbformat_minor": 2
}
