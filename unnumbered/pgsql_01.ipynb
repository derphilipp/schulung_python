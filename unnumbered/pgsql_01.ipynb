{
 "cells": [
  {
   "cell_type": "code",
   "execution_count": null,
   "metadata": {},
   "outputs": [],
   "source": []
  },
  {
   "cell_type": "code",
   "execution_count": 13,
   "metadata": {},
   "outputs": [
    {
     "name": "stdout",
     "output_type": "stream",
     "text": [
      "('city', 'id', 'integer')\n",
      "('city', 'population', 'integer')\n",
      "('city', 'name', 'text')\n",
      "('city', 'country_code', 'character')\n",
      "('city', 'district', 'text')\n"
     ]
    }
   ],
   "source": [
    "import psycopg2\n",
    "\n",
    "DB_NAME = \"world-db\"\n",
    "DB_USER = \"world\"\n",
    "DB_PASSWORD = \"world123\"\n",
    "DB_HOST = \"192.168.1.2\"\n",
    "DB_PORT = \"5432\"\n",
    "\n",
    "with psycopg2.connect(\n",
    "    dbname=DB_NAME, user=DB_USER, password=DB_PASSWORD, host=DB_HOST, port=DB_PORT\n",
    ") as conn:\n",
    "    with conn.cursor() as cur:\n",
    "        cur.execute(\n",
    "            \"\"\"\n",
    "            SELECT \n",
    "                table_name, \n",
    "                column_name, \n",
    "                data_type \n",
    "            FROM \n",
    "                information_schema.columns\n",
    "            WHERE \n",
    "                table_name = 'city';\"\"\"\n",
    "        )\n",
    "\n",
    "        for i in cur:\n",
    "            print(i)\n"
   ]
  },
  {
   "cell_type": "markdown",
   "metadata": {},
   "source": [
    "Aus dem psycopg2 Handbuch:\n",
    "\n",
    "\n",
    "\n",
    "Warning\n",
    "\n",
    "Never, never, NEVER use Python string concatenation (+) or string parameters interpolation (%) to pass variables to a SQL query string. Not even at gunpoint. "
   ]
  },
  {
   "cell_type": "code",
   "execution_count": 12,
   "metadata": {},
   "outputs": [
    {
     "name": "stdout",
     "output_type": "stream",
     "text": [
      "(1532, 'Tokyo', 'JPN', 'Tokyo-to', 7980230, 'JPN', 'Japan', 'Asia', 'Eastern Asia', 377829.0, -660, 126714000, 80.7, Decimal('3787042.00'), Decimal('4192638.00'), 'Nihon/Nippon', 'Constitutional Monarchy', 'Akihito', 1532, 'JP')\n"
     ]
    }
   ],
   "source": [
    "import psycopg2\n",
    "\n",
    "DB_NAME=\"world-db\"\n",
    "DB_USER=\"world\"\n",
    "DB_PASSWORD=\"world123\"\n",
    "DB_HOST=\"192.168.1.2\"\n",
    "DB_PORT=\"5432\"\n",
    "\n",
    "with psycopg2.connect(dbname=DB_NAME, user=DB_USER,password=DB_PASSWORD,host=DB_HOST, port=DB_PORT) as conn:\n",
    "    with conn.cursor() as cur:\n",
    "        # cur.execute(\"SELECT * From city WHERE name = %s\", (\"Tokyo\",))\n",
    "        #for i in cur:\n",
    "        #    print(i)\n",
    "        cur.execute(\"SELECT * From city, country WHERE country.capital = city.id AND city.name = %s\", (\"Tokyo\",))\n",
    "        for i in cur:\n",
    "            print(i)\n",
    "\n",
    "\n"
   ]
  }
 ],
 "metadata": {
  "interpreter": {
   "hash": "cba2c3b0abe14d5f4b67d1ebd150c45faff7bdaeb215f1ed57745464bd8675ff"
  },
  "kernelspec": {
   "display_name": "Python 3.10.1 64-bit",
   "language": "python",
   "name": "python3"
  },
  "language_info": {
   "codemirror_mode": {
    "name": "ipython",
    "version": 3
   },
   "file_extension": ".py",
   "mimetype": "text/x-python",
   "name": "python",
   "nbconvert_exporter": "python",
   "pygments_lexer": "ipython3",
   "version": "3.10.1"
  },
  "orig_nbformat": 4
 },
 "nbformat": 4,
 "nbformat_minor": 2
}
