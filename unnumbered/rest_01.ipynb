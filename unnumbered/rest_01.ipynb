{
 "cells": [
  {
   "cell_type": "markdown",
   "metadata": {},
   "source": [
    "## Tools \n",
    "### Kommandozeile\n",
    "* Empfehlung: `httpie`, ein Kommandozeilenclient für REST-Anfragen:\n",
    "    * https://httpie.io/cli\n",
    "* Alternativen: `curl`, `wget`\n",
    "\n",
    "### GUI\n",
    "* Visual Studio Code Plugin: [Thunder](https://marketplace.visualstudio.com/items?itemName=rangav.vscode-thunder-client)\n",
    "* Postman: [Standalone GUI Client](https://www.postman.com/)\n",
    "  \n",
    "### Python Bibliotheken\n",
    "* `urllib.request`: Mitgelieferte HTTP-Client Bibliothek\n",
    "* `requests`: [HTTP for Humans](https://docs.python-requests.org/) extrem empfehlenswert"
   ]
  }
 ],
 "metadata": {
  "language_info": {
   "name": "python"
  },
  "orig_nbformat": 4
 },
 "nbformat": 4,
 "nbformat_minor": 2
}
