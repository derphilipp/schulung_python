{
 "cells": [
  {
   "cell_type": "markdown",
   "metadata": {},
   "source": [
    "# Postgresql / Datenbanken\n",
    "\n",
    "* Beispiel Datenbank\n",
    "\n",
    "## Datebank-Schema:\n",
    "\n",
    "* Country Language\n",
    "* Country\n",
    "* City\n",
    "\n",
    "## Referenzen\n",
    "\n",
    "* Country.capital -> City.ID\n",
    "* country_language.country_code -> country.code\n",
    "\n",
    "## Schema\n"
   ]
  },
  {
   "cell_type": "markdown",
   "metadata": {},
   "source": [
    "```\n",
    "        Table \"country_language\"\n",
    "    Column    |     Type     \n",
    "--------------+--------------\n",
    " country_code | character(3) \n",
    " language     | text         \n",
    " is_official  | boolean      \n",
    " percentage   | real         \n",
    "```\n",
    "\n",
    "        Table \"country\"\n",
    "```\n",
    "     Column      |     Type       \n",
    "-----------------+---------------\n",
    " code            | character(3)  \n",
    " name            | text          \n",
    " continent       | text          \n",
    " region          | text          \n",
    " surface_area    | real          \n",
    " indep_year      | smallint      \n",
    " population      | integer       \n",
    " life_expectancy | real          \n",
    " gnp             | numeric(10,2)  \n",
    " gnp_old         | numeric(10,2)  \n",
    " local_name      | text           \n",
    " government_form | text           \n",
    " head_of_state   | text           \n",
    " capital         | integer        \n",
    " code2           | character(2)   \n",
    "```\n",
    "\n",
    "```\n",
    "        Table \"city\"\n",
    "    Column    |     Type     \n",
    "--------------+---------------\n",
    " id           | integer       \n",
    " name         | text          \n",
    " country_code | character(3)  \n",
    " district     | text          \n",
    " population   | integer       \n",
    "```"
   ]
  }
 ],
 "metadata": {
  "interpreter": {
   "hash": "cba2c3b0abe14d5f4b67d1ebd150c45faff7bdaeb215f1ed57745464bd8675ff"
  },
  "kernelspec": {
   "display_name": "Python 3.10.1 64-bit",
   "language": "python",
   "name": "python3"
  },
  "language_info": {
   "codemirror_mode": {
    "name": "ipython",
    "version": 3
   },
   "file_extension": ".py",
   "mimetype": "text/x-python",
   "name": "python",
   "nbconvert_exporter": "python",
   "pygments_lexer": "ipython3",
   "version": "3.10.1"
  },
  "orig_nbformat": 4
 },
 "nbformat": 4,
 "nbformat_minor": 2
}
