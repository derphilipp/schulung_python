{
 "cells": [
  {
   "cell_type": "markdown",
   "metadata": {},
   "source": [
    "# Linter\n",
    "## Basis\n",
    "* Wie Formatter sind Linter Empfehlungs/Umsetzungs-Tools\n",
    "* Formatter gehen auf die Form, Linter auf den Inhalt\n",
    "* Beispiele:\n",
    "  * Unbenutzte Variablen\n",
    "  * Unbenutzte Imports\n",
    "  * Gefährlicher Code (z.B. `meine_variable == None`)\n",
    "  * Passwörter in Programmcode\n",
    "\n",
    "## Tool-Empfehluungen\n",
    "* Im Vergleich zu Formattern, widersprechen sich mehrere Tools nicht unbedingt\n",
    "* flake8\n",
    "* bandit\n",
    "* prospector\n",
    "* mypy (siehe später)\n",
    "\n",
    "## Konfiguration\n",
    "* Installation: z.B. (`pip install flake8`)\n",
    "* Alternativ: Bei Einstellung von Linting Tools in IDE wird Installation i.d.R. automatisch angeboten\n",
    "* Je nach Tool können weitere Konfigurationen an- und ausgeschalten werden\n",
    " \n",
    "## Tipps\n",
    "* Beim Einsatz mehrerer Tools parallel, können sich gleichartige Prüfungen ergeben (z.B. Abstand von Funktionen zueinander) und sogar widersprechen\n",
    "* Wenn eine CI/CD Pipeline verwendet wird, empfiehlt es sich die verwendeten Werkzeuge auch dort zu verwenden\n",
    "* Gemeinsame auf \"Werkzeugkiste\" einigen\n",
    "* Unterschiedliche Linter können komplett unterschiedlichen Focus haben (z.B. `prospector` für Passwörter)"
   ]
  }
 ],
 "metadata": {
  "interpreter": {
   "hash": "cba2c3b0abe14d5f4b67d1ebd150c45faff7bdaeb215f1ed57745464bd8675ff"
  },
  "kernelspec": {
   "display_name": "Python 3.10.1 64-bit",
   "language": "python",
   "name": "python3"
  },
  "language_info": {
   "name": "python",
   "version": "3.10.1"
  },
  "orig_nbformat": 4
 },
 "nbformat": 4,
 "nbformat_minor": 2
}
