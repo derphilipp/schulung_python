{
 "cells": [
  {
   "cell_type": "markdown",
   "metadata": {},
   "source": [
    "# REST\n",
    "\n",
    "* REST steht für \"Representational State Transfer\"\n",
    "* Ein Paradigma, kein Standard\n",
    "* Statt SOAP und WSDL\n",
    "* URI gibt Ort und Name der Resource, nicht aber Methodeninformation an\n",
    "\n",
    "## Prinzipien\n",
    "* Zustandslos (Server merkt sich keinen Kontext, z.B. die letzten Anfragen und auch keine Zustände)\n",
    "* Einheitliche Schnittstellen (Zugriff auf Resourcen)\n",
    "* Selbstbeschreibende Nachrichten (Clean Code!)\n",
    "* Oft: Rückgabe von Daten in einem JSON-Format, zudem: (HTTP) Statuscode"
   ]
  },
  {
   "cell_type": "markdown",
   "metadata": {},
   "source": [
    "## Hintergrund\n",
    "* Anwendungsbeispiel: Eine TODO-Liste;\n",
    "* Wir können alle Elemente unserer Applikation mit einer URI erreichen\n",
    "    * `https://meinserver/todo/47` Zugriff auf todo Element mit der ID `47`\n",
    "* Mit verschiedenen Addressen können verschiedene Elemente/Daten erreicht und manipuliert werden\n",
    "* Mit verschiedenen Request Typen werden verschiedene Aktionen ausgelöst \n",
    "    * `GET`, `POST`, `PATCH`, `PUT`, `DELETE`\n",
    "* Warum möchte ich denn überhaupt den \"Umweg\" über REST machen, statt z.B. eine Datenbank direkt zuzugreifen?\n",
    "  "
   ]
  }
 ],
 "metadata": {
  "language_info": {
   "name": "python"
  },
  "orig_nbformat": 4
 },
 "nbformat": 4,
 "nbformat_minor": 2
}
