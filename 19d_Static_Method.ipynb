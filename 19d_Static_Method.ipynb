{
 "cells": [
  {
   "cell_type": "markdown",
   "metadata": {},
   "source": [
    "# Besondere Methoden \n",
    "* Es gibt neben \n",
    "* Manche Methoden sind statische Methoden\n",
    "* Statische Methoden \"kleben\" nicht an einem konkreten Klasseninstanz / einem Objekt, sondern an der Klasse selbst\n",
    "\n",
    "## Static Method\n",
    "* Eine statische Methode ist wie eine Funktion, nur liegt sie im Namespace der Klasse\n",
    "* Im Vergleich zur \"normalen\" Methode, beinhaltet sie *keine* `self` Übergabeparameter!\n",
    "* Sie wird mit `@staticmethod` markiert\n",
    "\n",
    "## Classmethod\n",
    "* Eine Klassenmethode ist eine Methode, die jedoch nicht am Objekt hängt, sondern an der Klasse selbst\n",
    "* So können auf Klassenvariablen(!)/Klassenattribute zugegriffen werden\n",
    "* Im Vergleich zur \"normalen\" Methode, beinhaltet sie *keine* `self` Übergabeparameter, aber einen `cls` Übergabeparameter (Class)\n",
    "* Sie wird mit `@classmethod` markiert"
   ]
  },
  {
   "cell_type": "code",
   "execution_count": null,
   "metadata": {},
   "outputs": [],
   "source": [
    "class Flower():\n",
    "    # Klassenattribut\n",
    "    counter = 47\n",
    "    def __init__(self, name):\n",
    "        # Objektattribut\n",
    "        self.name = name\n",
    "    \n",
    "    @classmethod\n",
    "    def take_one_flower(cls):\n",
    "        cls.counter-=1\n",
    "        print(f\"{cls.counter} Flowers remaining\")\n",
    "\n",
    "    @staticmethod\n",
    "    def say_something(x):\n",
    "        print(f\"That is a beautiful flower ({x})\")\n",
    "\n",
    "a = Flower(\"tulip\")\n",
    "b = Flower(\"rose\")\n",
    "\n",
    "a.say_something(\"Oh my\")\n",
    "b.say_something(\"Wow!\")\n",
    "\n",
    "a.take_one_flower()\n",
    "b.take_one_flower()\n",
    "a.take_one_flower()\n",
    "b.take_one_flower()"
   ]
  }
 ],
 "metadata": {
  "interpreter": {
   "hash": "8418bee04fc5899b974127966ee9ea493507530d95fa09f7bdadeadb3406a965"
  },
  "kernelspec": {
   "display_name": "Python 3.10.2 64-bit",
   "language": "python",
   "name": "python3"
  },
  "language_info": {
   "codemirror_mode": {
    "name": "ipython",
    "version": 3
   },
   "file_extension": ".py",
   "mimetype": "text/x-python",
   "name": "python",
   "nbconvert_exporter": "python",
   "pygments_lexer": "ipython3",
   "version": "3.10.1"
  },
  "orig_nbformat": 4
 },
 "nbformat": 4,
 "nbformat_minor": 2
}
