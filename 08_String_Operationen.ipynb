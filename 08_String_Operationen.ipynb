{
 "cells": [
  {
   "cell_type": "markdown",
   "metadata": {},
   "source": [
    "String-Operationen\n",
    "----------------------\n",
    "\n",
    "* Um Strings (d.h. Zeichenketten) zu manipulieren, gibt es viele eingebaute Methoden\n",
    "* Wichtig: Wir verändern dadurch die Variable nicht"
   ]
  },
  {
   "cell_type": "code",
   "execution_count": null,
   "metadata": {
    "collapsed": false
   },
   "outputs": [],
   "source": [
    "# Aufgabe: Was macht welche Zeile?\n",
    "\n",
    "s = \"hallo Welt, wie geht es Dir heute morgen vor 12 Uhr? \"\n",
    "\n",
    "# ...\n",
    "print(s.upper())\n",
    "# ...\n",
    "print(s.lower())\n",
    "# ...\n",
    "print(s.replace(\"Welt\", \"Kurs\"))\n",
    "# ...\n",
    "print(s.capitalize())\n",
    "# ...\n",
    "print(s.find(\"Welt\"))\n",
    "# Kniffelig:\n",
    "# ... \n",
    "print(s.strip())"
   ]
  },
  {
   "cell_type": "code",
   "execution_count": null,
   "metadata": {
    "collapsed": false
   },
   "outputs": [],
   "source": [
    "# Aufgabe: Schreibe ein Programm, dass den Namen eines Benutzers einliest und diesen Ausgibt:\n",
    "\n",
    "# Komplett in Grossbuchstaben\n",
    "\n",
    "# Komplett in Kleinbuchstaben\n",
    "\n",
    "# Mit Umlauten ersetzt (ß => ss, 'ä' => 'ae', usw.)\n",
    "\n",
    "# Was passiert, wenn ein Leerzeichen beim Namen dabei ist? Wie werde ich es los?\n"
   ]
  }
 ],
 "metadata": {
  "kernelspec": {
   "display_name": "Python 3",
   "language": "python",
   "name": "python3"
  },
  "language_info": {
   "codemirror_mode": {
    "name": "ipython",
    "version": 3
   },
   "file_extension": ".py",
   "mimetype": "text/x-python",
   "name": "python",
   "nbconvert_exporter": "python",
   "pygments_lexer": "ipython3",
   "version": "3.5.1"
  }
 },
 "nbformat": 4,
 "nbformat_minor": 0
}
