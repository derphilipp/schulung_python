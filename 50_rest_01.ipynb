{
 "cells": [
  {
   "cell_type": "markdown",
   "metadata": {},
   "source": [
    "## Tools \n",
    "### Kommandozeile\n",
    "* Empfehlung: `httpie`, ein Kommandozeilenclient für REST-Anfragen:\n",
    "    * https://httpie.io/cli\n",
    "* Alternativen: `curl`, `wget`\n",
    "\n",
    "### GUI\n",
    "* Visual Studio Code Plugin: [Thunder](https://marketplace.visualstudio.com/items?itemName=rangav.vscode-thunder-client)\n",
    "* Postman: [Standalone GUI Client](https://www.postman.com/)\n",
    "  \n",
    "### Python Bibliotheken\n",
    "* `urllib.request`: Mitgelieferte HTTP-Client Bibliothek\n",
    "* `requests`: [HTTP for Humans](https://docs.python-requests.org/) extrem empfehlenswert\n",
    "\n",
    "## Beispiele\n",
    "* Online Webservice [httpbin.org](https://httpbin.org/)\n",
    "    * Online-Service zum Ausprobieren\n",
    "    * Genutzt als Beispiel zum Testen, arbeitet mit fake Daten\n",
    "    * Auch lokale deploybar (Docker etc.)\n",
    "* Reale APIs (Achtung, diese können sich ändern, Nutzungsbedingungen beachten!)\n",
    "  * `api.stackoverflow.com`\n",
    "  * `wttr.in/Nuremberg?format=j1`"
   ]
  },
  {
   "cell_type": "markdown",
   "metadata": {},
   "source": [
    "## Tool-Vergleich\n",
    "\n",
    "* Abruf der aktivsten Fragen auf Stackoverflow:\n",
    "* Auf der Kommandozeile mit httpie\n",
    "    * `http \"https://api.stackexchange.com/2.2/questions?order=desc&sort=activity&site=stackoverflow\"`\n",
    "* Auf der Kommandozeile mit `curl`\n",
    "    * `curl --compressed \"https://api.stackexchange.com/2.2/questions?order=desc&sort=activity&site=stackoverflow\"`\n",
    "* In Thunder/Postman/weiteren Tools mit der URL\n",
    "    * `https://api.stackexchange.com/2.2/questions?order=desc&sort=activity&site=stackoverflow`"
   ]
  }
 ],
 "metadata": {
  "language_info": {
   "name": "python"
  },
  "orig_nbformat": 4
 },
 "nbformat": 4,
 "nbformat_minor": 2
}
