{
 "cells": [
  {
   "cell_type": "markdown",
   "metadata": {},
   "source": [
    "# Postgress-Zugriff mit psycopg2\n",
    "\n",
    "* Python erlaubt mit Hilfe von `psycopg2` eine Verbindung zu einer Postgres Datenbank\n",
    "* Für diese Übungen muss eine Datenbank zur verfügung stehen\n",
    "* Es wird eine Datenbank Verbindung hergestellt und ein Datenbank \"Cursor\" erzeugt. Mit diesem können lesende und schreibende Abfragen erstellt werden\n",
    "* Hierzu wird SQL Wissen gefragt sein"
   ]
  },
  {
   "cell_type": "code",
   "execution_count": null,
   "metadata": {},
   "outputs": [],
   "source": [
    "import psycopg2\n",
    "\n",
    "DB_NAME = \"world-db\"\n",
    "DB_USER = \"world\"\n",
    "DB_PASSWORD = \"world123\"\n",
    "DB_HOST = \"192.168.1.2\"\n",
    "DB_PORT = \"5432\"\n",
    "\n",
    "with psycopg2.connect(\n",
    "    dbname=DB_NAME, user=DB_USER, password=DB_PASSWORD, host=DB_HOST, port=DB_PORT\n",
    ") as conn:\n",
    "    with conn.cursor() as cur:\n",
    "        cur.execute(\n",
    "            \"\"\"\n",
    "            SELECT \n",
    "                table_name, \n",
    "                column_name, \n",
    "                data_type \n",
    "            FROM \n",
    "                information_schema.columns\n",
    "            WHERE \n",
    "                table_name = 'city';\"\"\"\n",
    "        )\n",
    "\n",
    "        for i in cur:\n",
    "            print(i)\n"
   ]
  },
  {
   "cell_type": "markdown",
   "metadata": {},
   "source": [
    "Aus dem psycopg2 Handbuch:\n",
    "\n",
    "\n",
    "\n",
    "Warning\n",
    "\n",
    "Never, never, NEVER use Python string concatenation (+) or string parameters interpolation (%) to pass variables to a SQL query string. Not even at gunpoint. "
   ]
  },
  {
   "cell_type": "code",
   "execution_count": null,
   "metadata": {},
   "outputs": [],
   "source": [
    "import psycopg2\n",
    "\n",
    "DB_NAME=\"world-db\"\n",
    "DB_USER=\"world\"\n",
    "DB_PASSWORD=\"world123\"\n",
    "DB_HOST=\"192.168.1.2\"\n",
    "DB_PORT=\"5432\"\n",
    "\n",
    "with psycopg2.connect(dbname=DB_NAME, user=DB_USER,password=DB_PASSWORD,host=DB_HOST, port=DB_PORT) as conn:\n",
    "    with conn.cursor() as cur:\n",
    "        # cur.execute(\"SELECT * From city WHERE name = %s\", (\"Tokyo\",))\n",
    "        #for i in cur:\n",
    "        #    print(i)\n",
    "        cur.execute(\"SELECT * From city, country WHERE country.capital = city.id AND city.name = %s\", (\"Tokyo\",))\n",
    "        for i in cur:\n",
    "            print(i)\n",
    "\n",
    "\n"
   ]
  },
  {
   "cell_type": "markdown",
   "metadata": {},
   "source": [
    "## Aufgaben\n",
    "\n",
    "### Teil 1\n",
    "* Erstelle ein Programm, welches eine weitere Stadt deiner Wahl einfügt (bitte nicht `Nürnberg`, das schreibt jede(r)) - das ganze funktioniert mit dem `INSERT` Statement \n",
    " \n",
    "### Teil 2\n",
    "* Erstelle ein Programm, welches deine gerade erstellte Stadt löscht. Bitte beachten: Wenn mehrere Menschen auf der gleichen Datenbank arbeiten, könnte ggf. jemand anderes die Datenbank auf die gleiche Art verändern\n"
   ]
  },
  {
   "cell_type": "markdown",
   "metadata": {},
   "source": [
    "## Fazit\n",
    "* Mit `psycopg2` können wir auf Postgres Datenbanken zugreifen\n",
    "* Der Zugriff erfolg via SQL und wir bekommen Elemente zurück\n",
    "\n",
    "## Vorteil\n",
    "* Hohe Geschwindigkeit, da \"direkter\" Datenbankzugriff\n",
    "* Datenbank-Spezifische SQL Statements etc. direkt nutzbar\n",
    "\n",
    "## Nachteil\n",
    "* Mapping auf eigene Objekte, etc. muss alles manuell erfolgen\n",
    "* Abfragen müssen in Datenbank-Spezifischem SQL erfolgen\n",
    "* Beim Wechsel auf andere Datenbank-System müssen wir alle Elemente neu schreiben"
   ]
  },
  {
   "cell_type": "markdown",
   "metadata": {},
   "source": []
  }
 ],
 "metadata": {
  "interpreter": {
   "hash": "cba2c3b0abe14d5f4b67d1ebd150c45faff7bdaeb215f1ed57745464bd8675ff"
  },
  "kernelspec": {
   "display_name": "Python 3.10.1 64-bit",
   "language": "python",
   "name": "python3"
  },
  "language_info": {
   "codemirror_mode": {
    "name": "ipython",
    "version": 3
   },
   "file_extension": ".py",
   "mimetype": "text/x-python",
   "name": "python",
   "nbconvert_exporter": "python",
   "pygments_lexer": "ipython3",
   "version": "3.10.2"
  },
  "orig_nbformat": 4
 },
 "nbformat": 4,
 "nbformat_minor": 2
}
