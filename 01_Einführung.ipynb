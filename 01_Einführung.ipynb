{
 "cells": [
  {
   "cell_type": "markdown",
   "metadata": {},
   "source": [
    "Einführung\n",
    "====================\n",
    "\n",
    "Die Sprache\n",
    "--------------------\n",
    "\n",
    "###  Autor \n",
    "* Guido van Rossum ![von Rossum](https://www.python.org/~guido/images/IMG_2192.jpg \"van Rossum\")\n",
    "* [Centrum Wiskunde & Informatica](https://www.cwi.nl/) (Amerterdam)\n",
    "* Heute: Microsoft (zuvor Google, Dropbox, u.v.m.)\n",
    "\n",
    "### Herkunft\n",
    "\n",
    "> „Vor über sechs Jahren, im Dezember 1989, suchte ich nach einem Programmierprojekt, das mich über die Weihnachtswoche beschäftigen würde. Mein Büro würde geschlossen bleiben, aber ich hatte auch zu Hause einen PC und sonst nicht viel zu tun. Ich entschied mich, einen Interpreter für die Skriptsprache zu schreiben, über die ich kürzlich nachdachte: Ein Nachfolger von ABC, der auch Unix- und C-Hacker ansprechen würde. Ich wählte Python als Arbeitstitel für das Projekt, weil ich in einer leicht respektlosen Stimmung (und ein großer Fan des Monty Python’s Flying Circus) war.“\n",
    "\n",
    "– Freie Übersetzung aus der Einleitung von Programming Python, von Mark Lutz, veröffentlicht von O’Reilly\n",
    "\n",
    "### Ziele\n",
    "* Einfach, intuitiv, mächtig\n",
    "* Open Source\n",
    "* Quelltext, der *so einfach zu lesen ist wie Englisch*\n",
    "* Für tägliche Aufgaben geeignet\n",
    "* Kurze Entwicklungszeit\n",
    "\n",
    "Bedeutung\n",
    "--------------------\n",
    "\n",
    "### Popularität\n",
    "* [Python is now the most popular introductory teaching kanguage at top U.S. universities](http://cacm.acm.org/blogs/blog-cacm/176450-python-is-now-the-most-popular-introductory-teaching-language-at-top-us-universities/fulltext)\n",
    "* [Top Sprachen: Python, Java, Matlab, C](http://www.pgbovine.net), Stand: Juli 2014\n",
    "* [Github](https://github.com/): Platz 5 (2013, 2012); Platz 1: Javascript\n",
    "* [Github](https://github.com/): Platz 2 (2016); Platz 1: Javascript\n",
    "\n",
    "### Einflüsse\n",
    "* Beeinflusst von:\n",
    "    * ABC, Algol 60, Modula-3, Icon, C, Perl, LISP, Smalltalk, Tcl, Haskell\n",
    "* Beeinflusste:\n",
    "    * Ruby, Boo, Groovy, Cython, Swift \n",
    "  \n",
    "### Einsatz\n",
    "* Web-Frameworks und Cloud-Dienste (z.B. Django, Flask, u.v.m.)\n",
    "    * [AWS](https://aws.amazon.com)\n",
    "    * [OpenStack](http://www.openstack.org/)\n",
    "    * [Youtube](http://www.youtube.com/watch?v=G-lGCC4KKok)\n",
    "    * [Dropbox](https://www.dropbox.com/developers/core/docs/python)\n",
    "    * [Yahoo Maps](https://de.maps.yahoo.com/)\n",
    "* Machine Learning, Neuronale Netzwerke, etc.\n",
    "* Systemwerkzeuge (z.B. Ubuntu, RedHat, u.v.m.)\n",
    "    * [Ubuntu Software Center](http://en.wikipedia.org/wiki/Ubuntu_Software_Center)\n",
    "* Data Science / Data Analytics\n",
    "* Oberflächen Programme (z.B. Qt, GTK, wxWindows, u.v.m.)\n",
    "    * [Miro](http://en.wikipedia.org/wiki/Miro_(software))\n",
    "* Skripting Sprache in Programmen\n",
    "    * [Blender 3D](http://www.blender.org/)\n",
    "    * LibreOffice\n",
    "* Bioinformatik\n",
    "* Raspberry Pi\n",
    "* u.v.m."
   ]
  }
 ],
 "metadata": {
  "kernelspec": {
   "display_name": "Python 3",
   "language": "python",
   "name": "python3"
  },
  "language_info": {
   "codemirror_mode": {
    "name": "ipython",
    "version": 3
   },
   "file_extension": ".py",
   "mimetype": "text/x-python",
   "name": "python",
   "nbconvert_exporter": "python",
   "pygments_lexer": "ipython3",
   "version": "3.6.2"
  }
 },
 "nbformat": 4,
 "nbformat_minor": 1
}
