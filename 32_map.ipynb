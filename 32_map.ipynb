{
 "cells": [
  {
   "cell_type": "markdown",
   "metadata": {},
   "source": [
    "# Map & inline `for`\n",
    "\n",
    "Um eine Function auf eine Liste an Werten anzuwenden können wir über die \"ganz normal\" iterieren - mit einer Schleife."
   ]
  },
  {
   "cell_type": "code",
   "execution_count": null,
   "metadata": {},
   "outputs": [],
   "source": [
    "def square(number):\n",
    "    return number ** 2\n",
    "numbers = [1, 2, 3, 4, 5]\n",
    "\n",
    "\n",
    "# Alle Elemente auf Quadrate anwenden\n",
    "squared_numbers_1 = []\n",
    "for number in numbers:\n",
    "    squared_numbers_1.append(square(number))\n",
    "print(squared_numbers_1)\n",
    "\n"
   ]
  },
  {
   "cell_type": "markdown",
   "metadata": {},
   "source": [
    "## Map\n",
    "* Mit \"map\" können wir eine Funktion auf alle Elemente anwenden"
   ]
  },
  {
   "cell_type": "code",
   "execution_count": null,
   "metadata": {},
   "outputs": [],
   "source": [
    "def square(number):\n",
    "    return number ** 2\n",
    "numbers = [1, 2, 3, 4, 5]\n",
    "\n",
    "# Mit \"map\" können wir eine Funktion auf alle Elemente anwenden\n",
    "squared_numbers_2 = map(square, numbers)\n",
    "print(list(squared_numbers_2))"
   ]
  },
  {
   "cell_type": "markdown",
   "metadata": {},
   "source": [
    "## Lambda Funktionen\n",
    "Statt der Funktion, die vielleicht nur an einer Stelle verwendet wird (hier: `square`) können wir diese auch als Lambda Funktion definieren."
   ]
  },
  {
   "cell_type": "code",
   "execution_count": null,
   "metadata": {},
   "outputs": [],
   "source": [
    "numbers = [1, 2, 3, 4, 5]\n",
    "\n",
    "# Mit \"map\" können wir eine Funktion auf alle Elemente anwenden\n",
    "squared_numbers_2 = map(lambda i: 2**i, numbers)\n",
    "print(list(squared_numbers_2))"
   ]
  },
  {
   "cell_type": "markdown",
   "metadata": {},
   "source": [
    "## Inline For\n",
    "Mit inline `for` können wir eine Funktion auf alle Elemente anwenden"
   ]
  },
  {
   "cell_type": "code",
   "execution_count": null,
   "metadata": {},
   "outputs": [],
   "source": [
    "def square(number):\n",
    "    return number ** 2\n",
    "numbers = [1, 2, 3, 4, 5]\n",
    "\n",
    "squared_numbers_3 = [square(number) for number in numbers]\n",
    "print(squared_numbers_3)"
   ]
  },
  {
   "cell_type": "markdown",
   "metadata": {},
   "source": [
    "## Inline for Teil 2\n",
    "\n",
    "Wir können aber auch die Funktionaliät als Bestandteil der for Schleife definieren"
   ]
  },
  {
   "cell_type": "code",
   "execution_count": null,
   "metadata": {},
   "outputs": [],
   "source": [
    "numbers = [1, 2, 3, 4, 5]\n",
    "\n",
    "squared_numbers_3 = [number**2 for number in numbers]\n",
    "print(squared_numbers_3)"
   ]
  },
  {
   "cell_type": "markdown",
   "metadata": {},
   "source": [
    "## Aufgabe\n",
    "\n",
    "Nutze den Generator, der eine Datei ausliest aus der vorherigen Übung.\n",
    "Gebe aber alle Zeilen in Upper-Case aus, ohne den Genereator selbst zu ändern.\n",
    "\n",
    "Löse das ganze mit...\n",
    "* Eine \"normalen\" Schleife\n",
    "* `map` und einer Lambda Funktion\n",
    "* Einer inline `for` Schleife"
   ]
  },
  {
   "cell_type": "code",
   "execution_count": null,
   "metadata": {},
   "outputs": [],
   "source": [
    "def read_file():\n",
    "    txt = []\n",
    "    f = open(\"text_example.txt\", \"r\")\n",
    "    for line in f:\n",
    "        yield line\n",
    "\n",
    "# ..."
   ]
  }
 ],
 "metadata": {
  "interpreter": {
   "hash": "8418bee04fc5899b974127966ee9ea493507530d95fa09f7bdadeadb3406a965"
  },
  "kernelspec": {
   "display_name": "Python 3.10.2 64-bit",
   "language": "python",
   "name": "python3"
  },
  "language_info": {
   "codemirror_mode": {
    "name": "ipython",
    "version": 3
   },
   "file_extension": ".py",
   "mimetype": "text/x-python",
   "name": "python",
   "nbconvert_exporter": "python",
   "pygments_lexer": "ipython3",
   "version": "3.10.2"
  },
  "orig_nbformat": 4
 },
 "nbformat": 4,
 "nbformat_minor": 2
}
