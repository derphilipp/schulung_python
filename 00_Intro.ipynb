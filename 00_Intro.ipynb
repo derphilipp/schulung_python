{
 "cells": [
  {
   "cell_type": "markdown",
   "metadata": {},
   "source": [
    "\n",
    "### Herkunft dieser Schulung:\n",
    "[http://github.com/derphilipp/schulung_python](http://github.com/derphilipp/schulung_python)\n",
    "\n",
    "Kontaktdaten:\n",
    "------------------\n",
    "* Philipp Weißmann\n",
    "* mail@philipp-weissmann.de\n",
    "* +49 162 42 52 802\n",
    "\n",
    "\n",
    "\n",
    "\n",
    "![Python is fun](http://imgs.xkcd.com/comics/python.png \"Python is fun\") \n",
    "\n",
    "Intro\n",
    "====================\n",
    "\n",
    "### Dieses Dokument\n",
    "* Dieses Dokument kann und soll editiert werden\n",
    "* Die Unterlagen sind absichtlich mit Lücken versehen, die Du füllen kannst\n",
    "* Für Notizen und \"herumspielen\" mit Code ist in diesem Kurs genug Zeit - bitte melde Dich, wenn Du bei einer Übung mehr Zeit möchtest\n",
    "* Mein Ziel für diesen Kurs, ist es Dir einen Start zu geben\n",
    "\n",
    "### Meine Bitte\n",
    "* Stelle Fragen\n",
    "* Hinterfrage Dinge\n",
    "* Probiere Dinge aus\n",
    "* Habe Spaß"
   ]
  }
 ],
 "metadata": {
  "kernelspec": {
   "display_name": "Python 3",
   "language": "python",
   "name": "python3"
  },
  "language_info": {
   "codemirror_mode": {
    "name": "ipython",
    "version": 3
   },
   "file_extension": ".py",
   "mimetype": "text/x-python",
   "name": "python",
   "nbconvert_exporter": "python",
   "pygments_lexer": "ipython3",
   "version": "3.5.1"
  }
 },
 "nbformat": 4,
 "nbformat_minor": 0
}
