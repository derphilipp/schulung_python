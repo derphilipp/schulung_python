{
 "cells": [
  {
   "cell_type": "markdown",
   "metadata": {},
   "source": [
    "Dateien lesen und schreiben\n",
    "------------------------------\n",
    "### Dateien lesen\n",
    "\n",
    "* Datei öffnen kennt verschiedene Modi:\n",
    "    * r: Lesen\n",
    "    * w: Schreiben\n",
    "    * r+: Lesen & Schreiben\n",
    "    * a: Append (Am Ende anhängen)\n",
    "    * b: Binary (nur für Binärdateien, nur unter Windows notwendig)\n",
    "* In Python kann man eine Datei abarbeiten, wie eine Liste"
   ]
  },
  {
   "cell_type": "code",
   "execution_count": null,
   "metadata": {
    "collapsed": false
   },
   "outputs": [],
   "source": [
    "# Datei lesen:\n",
    "file = open(\"mein_text.txt\", \"r\")\n",
    "for line in file:\n",
    "    print(line)\n",
    "file.close()"
   ]
  },
  {
   "cell_type": "code",
   "execution_count": null,
   "metadata": {
    "collapsed": false
   },
   "outputs": [],
   "source": [
    "# Datei schreiben:\n",
    "obstsorten = [\"Mango\", \"Papaya\", \"Banane\"]\n",
    "file = open(\"mein_text.txt\", \"w\")\n",
    "for obst in obstsorten:\n",
    "    file.write(obst)\n",
    "file.close()"
   ]
  },
  {
   "cell_type": "code",
   "execution_count": null,
   "metadata": {
    "collapsed": false
   },
   "outputs": [],
   "source": []
  }
 ],
 "metadata": {
  "kernelspec": {
   "display_name": "Python 3",
   "language": "python",
   "name": "python3"
  },
  "language_info": {
   "codemirror_mode": {
    "name": "ipython",
    "version": 3
   },
   "file_extension": ".py",
   "mimetype": "text/x-python",
   "name": "python",
   "nbconvert_exporter": "python",
   "pygments_lexer": "ipython3",
   "version": "3.5.1"
  }
 },
 "nbformat": 4,
 "nbformat_minor": 0
}
