{
 "cells": [
  {
   "cell_type": "markdown",
   "metadata": {},
   "source": [
    "Dateien lesen und schreiben\n",
    "------------------------------\n",
    "### Dateien lesen\n",
    "\n",
    "* Datei öffnen kennt verschiedene Modi:\n",
    "    * r: Lesen\n",
    "    * w: Schreiben\n",
    "    * r+: Lesen & Schreiben\n",
    "    * a: Append (Am Ende anhängen)\n",
    "    * b: Binary (nur für Binärdateien, nur unter Windows notwendig)\n",
    "* In Python kann man eine Datei abarbeiten, wie eine Liste"
   ]
  },
  {
   "cell_type": "code",
   "execution_count": null,
   "metadata": {},
   "outputs": [],
   "source": [
    "# Datei schreiben:\n",
    "\n",
    "obstsorten = [\"Mango\", \"Papaya\", \"Banane\"]\n",
    "file = open(\"mein_text.txt\", \"w\")\n",
    "for obst in obstsorten:\n",
    "    file.write(obst)\n",
    "file.close()"
   ]
  },
  {
   "cell_type": "code",
   "execution_count": null,
   "metadata": {
    "collapsed": false
   },
   "outputs": [],
   "source": [
    "# Datei lesen:\n",
    "file = open(\"mein_text.txt\", \"r\")\n",
    "for line in file:\n",
    "    print(line)\n",
    "file.close()"
   ]
  },
  {
   "cell_type": "markdown",
   "metadata": {},
   "source": [
    "## with\n",
    "* Statt sich um um \"Resourcen\" wie die geöffnete Datei zu kümmern (diese z.B. nach erfolgreichen Operationen wieder zu schließen), können wir diese auch einen Kontext setzen\n",
    "* Mit dem Schlüsselwort `with` ist die Resource nur innerhalb dieses Blocks verfügbar\n",
    "* Beim Verlassen des Blocks wird die Resource automatisch geschlossen (hier: Dateihandle schließen)"
   ]
  },
  {
   "cell_type": "code",
   "execution_count": null,
   "metadata": {
    "collapsed": false
   },
   "outputs": [],
   "source": [
    "# Datei lesen:\n",
    "\n",
    "with open(\"mein_text.txt\", \"r\") as file:\n",
    "    for line in file:\n",
    "        print(line)\n",
    "\n",
    "# Kein Schließen mehr notwendig"
   ]
  }
 ],
 "metadata": {
  "kernelspec": {
   "display_name": "Python 3",
   "language": "python",
   "name": "python3"
  },
  "language_info": {
   "codemirror_mode": {
    "name": "ipython",
    "version": 3
   },
   "file_extension": ".py",
   "mimetype": "text/x-python",
   "name": "python",
   "nbconvert_exporter": "python",
   "pygments_lexer": "ipython3",
   "version": "3.5.1"
  }
 },
 "nbformat": 4,
 "nbformat_minor": 0
}
