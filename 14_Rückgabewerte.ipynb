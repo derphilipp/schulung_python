{
 "cells": [
  {
   "cell_type": "markdown",
   "metadata": {},
   "source": [
    "### Rückgabewerte\n",
    "* Eine Methode kann(!) einen Rückgabewert haben\n",
    "* Der Typ ist nicht vorgeschrieben und kann unterschiedlich sein"
   ]
  },
  {
   "cell_type": "code",
   "execution_count": null,
   "metadata": {
    "collapsed": false
   },
   "outputs": [],
   "source": [
    "def multiply(a, b):\n",
    "    return a * b\n",
    "\n",
    "print(multiply(3,5))"
   ]
  },
  {
   "cell_type": "code",
   "execution_count": null,
   "metadata": {
    "collapsed": false
   },
   "outputs": [],
   "source": [
    "def combination(a, b):\n",
    "    plus = a + b\n",
    "    minus = a - b\n",
    "    multiply = a * b\n",
    "    return plus, minus, multiply\n",
    "\n",
    "# Welcher Typ ist numbers?\n",
    "numbers = combination(3, 5)\n",
    "print(numbers)\n",
    "\n",
    "# ...\n",
    "pl, mi, mu = combination(3,5)\n",
    "print(pl)\n",
    "print(mi)\n",
    "print(mu)"
   ]
  },
  {
   "cell_type": "markdown",
   "metadata": {},
   "source": [
    "### Verschachtelung\n",
    "* Eine Methode kann weitere Methoden aufrufen\n",
    "* Eine Methode kann weitere Methoden enthalten (Aber: Übersichtlichkeit!)"
   ]
  },
  {
   "cell_type": "code",
   "execution_count": null,
   "metadata": {
    "collapsed": false
   },
   "outputs": [],
   "source": [
    "# Aufgabe: Erstelle eine Methode, die eine Zahl negiert\n",
    "\n",
    "\n",
    "# Aufgabe: Erstelle eine Methode, die als Parameter den Namen eines Benutzers erhält. \n",
    "# Als Rückgabewert soll ein Gruß an diese Person zurückgegeben werden.\n",
    "\n"
   ]
  }
 ],
 "metadata": {
  "kernelspec": {
   "display_name": "Python 3",
   "language": "python",
   "name": "python3"
  },
  "language_info": {
   "codemirror_mode": {
    "name": "ipython",
    "version": 3
   },
   "file_extension": ".py",
   "mimetype": "text/x-python",
   "name": "python",
   "nbconvert_exporter": "python",
   "pygments_lexer": "ipython3",
   "version": "3.5.1"
  }
 },
 "nbformat": 4,
 "nbformat_minor": 0
}
