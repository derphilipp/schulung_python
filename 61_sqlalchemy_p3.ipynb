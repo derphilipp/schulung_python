{
 "cells": [
  {
   "cell_type": "markdown",
   "metadata": {},
   "source": [
    "# Queries\n",
    "* Statt SQL können wir direkt mit SqlAlchemy Abfragen modellieren / erstellen\n",
    "* Wichtig: Auch wenn Attribute an einer Klasse Modelliert sind, müssen wir für eine Filter-Abfrage, diese (wie in SQL) `joinen`"
   ]
  },
  {
   "cell_type": "code",
   "execution_count": null,
   "metadata": {},
   "outputs": [],
   "source": [
    "from sqlalchemy import (\n",
    "    Column,\n",
    "    String,\n",
    "    Integer,\n",
    "    ForeignKey,\n",
    "    func,\n",
    "    create_engine,\n",
    ")\n",
    "from sqlalchemy.orm import relationship, backref, sessionmaker\n",
    "from sqlalchemy.ext.declarative import declarative_base\n",
    "\n",
    "DB_NAME = \"world-db\"\n",
    "DB_USER = \"world\"\n",
    "DB_PASSWORD = \"world123\"\n",
    "DB_HOST = \"192.168.1.2\"\n",
    "DB_PORT = \"5432\"\n",
    "\n",
    "Base = declarative_base()\n",
    "\n",
    "\n",
    "class Country(Base):\n",
    "    __tablename__ = \"country\"\n",
    "    code = Column(String, primary_key=True)\n",
    "    name = Column(String)\n",
    "\n",
    "\n",
    "class City(Base):\n",
    "    __tablename__ = \"city\"\n",
    "    id = Column(Integer, primary_key=True)\n",
    "    name = Column(String)\n",
    "    country_code = Column(String, ForeignKey(\"country.code\"))\n",
    "    country = relationship(\n",
    "        Country, backref=backref(\"cities\", uselist=True, cascade=\"delete,all\")\n",
    "    )\n",
    "\n",
    "\n",
    "engine = create_engine(\n",
    "    f\"postgresql://{DB_USER}:{DB_PASSWORD}@{DB_HOST}:{DB_PORT}/{DB_NAME}\"\n",
    ")\n",
    "con = engine.connect()\n",
    "\n",
    "session = sessionmaker()\n",
    "session.configure(bind=engine)\n",
    "Base.metadata.create_all(engine)\n",
    "\n",
    "s = session()\n",
    "\n",
    "# Gebe alle Städte aus, die in Deutschland sind\n",
    "# Achtung: Join notwendig, damit in der Query Country.name bekannt ist\n",
    "result = s.query(City).join(City.country).filter(Country.name == \"Germany\").all()\n",
    "for i in result:\n",
    "    print(i.name)"
   ]
  },
  {
   "cell_type": "markdown",
   "metadata": {},
   "source": [
    "## Aufgaben\n",
    "\n",
    "### Aufgabe 1\n",
    "* Modelliere zusätzlich die Klasse CountryLanguage (siehe auch Datenbankschema)\n",
    "* Erstelle beispielhafte Abfragen von CountryLanguage\n",
    "\n",
    "### Aufgabe 2\n",
    "* Erstelle eine Abfrage, in der Sowohl Country Language und das Land Verknüpft\n",
    "* Welche Abfragen sind mit Hilfenahme aller drei Klassen möglich?"
   ]
  }
 ],
 "metadata": {
  "interpreter": {
   "hash": "cba2c3b0abe14d5f4b67d1ebd150c45faff7bdaeb215f1ed57745464bd8675ff"
  },
  "kernelspec": {
   "display_name": "Python 3.10.1 64-bit",
   "language": "python",
   "name": "python3"
  },
  "language_info": {
   "codemirror_mode": {
    "name": "ipython",
    "version": 3
   },
   "file_extension": ".py",
   "mimetype": "text/x-python",
   "name": "python",
   "nbconvert_exporter": "python",
   "pygments_lexer": "ipython3",
   "version": "3.10.1"
  },
  "orig_nbformat": 4
 },
 "nbformat": 4,
 "nbformat_minor": 2
}
