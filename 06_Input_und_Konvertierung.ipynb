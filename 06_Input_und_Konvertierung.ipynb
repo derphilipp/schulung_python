{
 "cells": [
  {
   "cell_type": "markdown",
   "metadata": {},
   "source": [
    "Input und Konvertierung\n",
    "------------------------\n",
    "\n",
    "### String Formatierung (Basics)\n",
    "* Ausgaben sollen oft formatiert sein\n",
    "* Ausgaben sollen Werte enthalten\n",
    "* Einfach zu Lösen mit *format*\n",
    "* [Mehr Informationen zu schöner Ausgabe](https://docs.python.org/3.4/library/string.html#formatspec)"
   ]
  },
  {
   "cell_type": "code",
   "execution_count": null,
   "metadata": {
    "collapsed": false
   },
   "outputs": [],
   "source": [
    "# \"Normale\" Formatierung\n",
    "name = \"Klaus\"\n",
    "print(\"Hallo {}\".format(name))"
   ]
  },
  {
   "cell_type": "code",
   "execution_count": null,
   "metadata": {},
   "outputs": [],
   "source": [
    "# \"Oldschool\" Formatierung\n",
    "name = \"Klaus\"\n",
    "print(\"Hallo %s\"  % name)"
   ]
  },
  {
   "cell_type": "code",
   "execution_count": null,
   "metadata": {},
   "outputs": [],
   "source": [
    "# Neuer: Format-Strings\n",
    "name = \"Klaus\"\n",
    "print(f\"Hallo {name}\")"
   ]
  },
  {
   "cell_type": "code",
   "execution_count": null,
   "metadata": {
    "collapsed": false
   },
   "outputs": [],
   "source": [
    "# Mehrere Variablen...\n",
    "name = \"Klaus\"\n",
    "city = \"Nürnberg\"\n",
    "print(\"{} wohnt in {}\".format(name, city))"
   ]
  },
  {
   "cell_type": "code",
   "execution_count": null,
   "metadata": {
    "collapsed": false
   },
   "outputs": [],
   "source": [
    "# Aufgabe: Schreibe ein Programm, dass folgendes Ausgibt: \n",
    "#\n",
    "# Philipp hat die userid [9108]\n",
    "# Username: DATEV_MD\\T9108A\n",
    "# Mailaddress: mail@philipp-weissmann.de\n",
    "# \n",
    "name = \"Philipp\"\n",
    "userid = 9108\n",
    "mail = \"mail@philipp-weissmann.de\"\n",
    "\n",
    "# ..."
   ]
  },
  {
   "cell_type": "markdown",
   "metadata": {},
   "source": [
    "### Input\n",
    "* Bei interaktiven Programmen kann ein Benutzer nach einer Eingabe gefragt werden\n",
    "* Diese wird durch ein *Return* Abgeschlossen\n",
    "* Die Eingabe ist immer vom Typ *string*"
   ]
  },
  {
   "cell_type": "code",
   "execution_count": null,
   "metadata": {
    "collapsed": false
   },
   "outputs": [],
   "source": [
    "print(\"Wie heisst Du?\")\n",
    "name = input()\n",
    "print(\"Hallo {}\".format(name))"
   ]
  },
  {
   "cell_type": "markdown",
   "metadata": {},
   "source": [
    "* Problem: Mit Strings kann man z.B. nicht rechnen"
   ]
  },
  {
   "cell_type": "code",
   "execution_count": null,
   "metadata": {
    "collapsed": false
   },
   "outputs": [],
   "source": [
    "print(\"Wie alt bist Du?\")\n",
    "alter = input()\n",
    "alter = alter + 5\n",
    "print(\"In 5 Jahren bist Du {}\".format(alter))"
   ]
  },
  {
   "cell_type": "markdown",
   "metadata": {},
   "source": [
    "* Explizites Konvertieren des Strings nach Integer notwendig"
   ]
  },
  {
   "cell_type": "code",
   "execution_count": null,
   "metadata": {
    "collapsed": false
   },
   "outputs": [],
   "source": [
    "print(\"Wie alt bist Du?\")\n",
    "alter = int(input())\n",
    "alter = alter + 5\n",
    "print(\"In 5 Jahren bist Du {}\".format(alter))"
   ]
  },
  {
   "cell_type": "markdown",
   "metadata": {},
   "source": [
    "* Falls kein gültiger Integer-Wert eingegeben wird, passiert immer noch ein Fehler\n",
    "* Um dies zu behandeln brauchen wir *Exception-Handling* (später)"
   ]
  },
  {
   "cell_type": "code",
   "execution_count": null,
   "metadata": {
    "collapsed": false
   },
   "outputs": [],
   "source": [
    "# Aufgabe: Schreibe ein Programm, welches ein Geburtsjahr einliest\n",
    "# Mit Hilfe des gegenwaertigen Jahres (als feste Variable setzen)\n",
    "# soll ausgegeben werden, wie alt die Person ist.\n",
    "# (Annahme: Die Person hatte dieses Jahr schon Geburtstag)\n",
    "\n",
    "# ...\n",
    "\n"
   ]
  }
 ],
 "metadata": {
  "kernelspec": {
   "display_name": "Python 3",
   "language": "python",
   "name": "python3"
  },
  "language_info": {
   "codemirror_mode": {
    "name": "ipython",
    "version": 3
   },
   "file_extension": ".py",
   "mimetype": "text/x-python",
   "name": "python",
   "nbconvert_exporter": "python",
   "pygments_lexer": "ipython3",
   "version": "3.5.1"
  }
 },
 "nbformat": 4,
 "nbformat_minor": 0
}