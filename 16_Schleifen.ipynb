{
 "cells": [
  {
   "cell_type": "markdown",
   "metadata": {},
   "source": [
    "Schleifen\n",
    "--------------\n",
    "### Grundlagen\n",
    "* Um Daten-Mengen (z.B. Listen) abzuarbeiten, ist es oft notwendig, jeden Wert einzeln zu benutzen\n",
    "* Hierzu gibt es Schleifen, die alle Werte einer Menge (z.B. Liste) durchlaufen und für jeden Wert eine Aktion durchführen"
   ]
  },
  {
   "cell_type": "code",
   "execution_count": null,
   "metadata": {
    "collapsed": false
   },
   "outputs": [],
   "source": [
    "obstsorten = [\"Banane\", \"Birne\", \"Apfel\", \"Mango\"]\n",
    "for obst in obstsorten:\n",
    "    print(obst)"
   ]
  },
  {
   "cell_type": "markdown",
   "metadata": {},
   "source": [
    "* Unterschiede zu C# / C++\n",
    "    * Entspricht foreach \n",
    "    * Funktioniert auf allem, was iterable ist, also \n",
    "        * Tupel \n",
    "        * Listen \n",
    "        * Dictionaries (Werte) \n",
    "        * u.v.m. \n",
    "\n"
   ]
  },
  {
   "cell_type": "code",
   "execution_count": null,
   "metadata": {
    "collapsed": false
   },
   "outputs": [],
   "source": [
    "summed_up = 0\n",
    "numbers = [0,1,2,3,4,5,6,7,8,9,10]\n",
    "for number in numbers:\n",
    "    summed_up = summed_up + number\n",
    "print(summed_up)\n",
    "\n",
    "# Kontrolle durch eingebauter Methode\n",
    "print(sum(numbers))"
   ]
  },
  {
   "cell_type": "markdown",
   "metadata": {},
   "source": [
    "### Enumerate\n",
    "* Braucht man beim Durchschreiten einer Liste den jeweiligen Index, kann man diesen selbst erstellen oder mittels **enumerate** bekommen:"
   ]
  },
  {
   "cell_type": "code",
   "execution_count": null,
   "metadata": {
    "collapsed": false
   },
   "outputs": [],
   "source": [
    "obstsorten = [\"Banane\", \"Birne\", \"Apfel\", \"Mango\"]\n",
    "\n",
    "index = 0\n",
    "for obst in obstsorten:\n",
    "    print (\"{}: {}\".format(index, obst))\n",
    "    index = index+1"
   ]
  },
  {
   "cell_type": "code",
   "execution_count": null,
   "metadata": {
    "collapsed": false
   },
   "outputs": [],
   "source": [
    "# oder einfach so:\n",
    "for index, obst in enumerate(obstsorten):\n",
    "    print(\"{}: {}\".format(index, obst))"
   ]
  },
  {
   "cell_type": "code",
   "execution_count": null,
   "metadata": {
    "collapsed": false
   },
   "outputs": [],
   "source": []
  },
  {
   "cell_type": "code",
   "execution_count": null,
   "metadata": {
    "collapsed": false
   },
   "outputs": [],
   "source": [
    "# Aufgabe: Erstelle ein Programm mit einer Liste von Benutzernnamen und ihren jeweilgen BenutzerIDs\n",
    "# Welche Datentypen sind geeignet?\n",
    "# Gebe alle Benutzer mit ihren jeweiligen BenutzerIDs mit Hilfe von 'for' aus\n"
   ]
  }
 ],
 "metadata": {
  "kernelspec": {
   "display_name": "Python 3",
   "language": "python",
   "name": "python3"
  },
  "language_info": {
   "codemirror_mode": {
    "name": "ipython",
    "version": 3
   },
   "file_extension": ".py",
   "mimetype": "text/x-python",
   "name": "python",
   "nbconvert_exporter": "python",
   "pygments_lexer": "ipython3",
   "version": "3.5.1"
  }
 },
 "nbformat": 4,
 "nbformat_minor": 0
}
