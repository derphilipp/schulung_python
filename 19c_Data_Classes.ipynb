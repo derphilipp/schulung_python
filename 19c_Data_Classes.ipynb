{
 "cells": [
  {
   "cell_type": "markdown",
   "metadata": {},
   "source": [
    "# Data Classes\n",
    "* Zum Abbilden von Sachverhalten/Daten in Python ist es oft praktisch, diese als Klassen/Objekte abzubilden\n",
    "* Wir müssen jedoch immer einen Konstruktor mit den Eigenschaften definieren und auch eine `__str__()`-Methode um das Objekt als String ausgeben zu können\n",
    "* Klassen ohne (große) Funktionalität können seit Python 3.7 mit `dataclass` erzeugt werden\n",
    "* Hierbei wird aber der Typ der Eigenschaft(en) per Code festgelegt\n",
    "* Die Klasse wird automatisch mit einem generierten `__init__`-Methode initialisiert\n",
    "* Auch wird eine `__str__` Methode implementiert, die die Klasse als String ausgibt\n",
    "* Es kann in optionalen Parametern angegeben werden, welche Funktionalitäten automatisch generiert werden sollen"
   ]
  },
  {
   "cell_type": "code",
   "execution_count": null,
   "metadata": {},
   "outputs": [],
   "source": [
    "class Person:\n",
    "    \"\"\"Person in HR System.\"\"\"\n",
    "    def __init__(self, name, department, id, salary):\n",
    "        \"\"\"Initialize Person.\"\"\"\n",
    "        self.name = name\n",
    "        self.department = department\n",
    "        self.id = id\n",
    "        self.salary = salary\n",
    "    def __str__(self):\n",
    "        return f\"Person(name='{self.name}', department='{self.department}', id={self.id}, salary={self.salary})\"\n",
    "\n",
    "p = Person('John', 'IT', 1, 100000)\n",
    "print(p)"
   ]
  },
  {
   "cell_type": "code",
   "execution_count": 4,
   "metadata": {},
   "outputs": [
    {
     "name": "stdout",
     "output_type": "stream",
     "text": [
      "Person(name='John', department='IT', id=1, salary=100000)\n"
     ]
    }
   ],
   "source": [
    "from dataclasses import dataclass\n",
    "\n",
    "@dataclass\n",
    "class Person:\n",
    "    name: str\n",
    "    department: str\n",
    "    id: int = 0\n",
    "    salary: int = 0\n",
    "    \n",
    "p = Person('John', 'IT', 1, 100000)\n",
    "print(p)"
   ]
  }
 ],
 "metadata": {
  "interpreter": {
   "hash": "8418bee04fc5899b974127966ee9ea493507530d95fa09f7bdadeadb3406a965"
  },
  "kernelspec": {
   "display_name": "Python 3.10.2 64-bit",
   "language": "python",
   "name": "python3"
  },
  "language_info": {
   "codemirror_mode": {
    "name": "ipython",
    "version": 3
   },
   "file_extension": ".py",
   "mimetype": "text/x-python",
   "name": "python",
   "nbconvert_exporter": "python",
   "pygments_lexer": "ipython3",
   "version": "3.10.2"
  },
  "orig_nbformat": 4
 },
 "nbformat": 4,
 "nbformat_minor": 2
}
