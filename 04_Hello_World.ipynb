{
 "cells": [
  {
   "cell_type": "markdown",
   "metadata": {},
   "source": [
    "## Python starten\n",
    "(Vorraussetzung: `python` bzw `python.exe` befindet sich als Eintrag in der `$PATH` Variable; Sonst muss der volle Pfad angegeben werden)\n",
    "\n",
    "\n",
    "Öffne die Kommandozeile (z.B. cmd) und starte python mit dem Befehl\n",
    "\n",
    "```bash\n",
    "python\n",
    "```\n",
    "\n",
    "Es öffnet sich das Programm mit einer Meldung, die in etwa so aussieht:\n",
    "\n",
    "```text\n",
    "Python 3.6.2 |Anaconda 2.2.0 (64-bit)| (default, Sep 24 2015, 18:32:42) [MSC v.1600 64 bit (AMD64)] on win32\n",
    "Type \"help\", \"copyright\", \"credits\" or \"license\" for more information.\n",
    ">>>\n",
    "```\n",
    "\n",
    "oder auch\n",
    "\n",
    "```test\n",
    "Python 3.10.1 (main, Jan  9 2022, 10:53:20) [Clang 13.0.0 (clang-1300.0.29.30)] on darwin\n",
    "Type \"help\", \"copyright\", \"credits\" or \"license\" for more information.\n",
    ">>>\n",
    "```\n",
    "\n",
    "* Dies ist eine [*REPL*](http://en.wikipedia.org/wiki/Read%E2%80%93eval%E2%80%93print_loop) (*Read-eval-print loop*, auch *Language Shell*)\n",
    "* Eingaben werden ausgewertet und ausgegeben\n",
    "* Programmieren durch direkte Eingaben möglich\n",
    "* Beispiel:\n",
    "\n",
    "```python\n",
    "print(\"Hello World\")\n",
    "```\n",
    "\n",
    "### Erstes Programm\n",
    "* Öffne einen Editor, nur den einfachsten Editor \"Notepad\"\n",
    "* Folgender Inhalt in die Datei speichern:\n",
    "\n",
    "```python\n",
    "print(\"Hello World\")\n",
    "```\n",
    "\n",
    "* Öffne die Kommandozeile und starte das Programm mit dem Befehl:\n",
    "\n",
    "```bash\n",
    "python hello_world.py\n",
    "```\n",
    "\n",
    "* Programm wird somit dauerhaft gespeichert und abgelegt\n",
    "* Übliche Arbeit: Editor und Kommandozeile\n",
    "* [IDEs](http://de.wikipedia.org/wiki/Integrierte_Entwicklungsumgebung) (später!) auch möglich\n",
    "\n",
    "### Dieses Dokument\n",
    "* Ist ein [Jupyter Notebook](http://jupyter.org/)\n",
    "* Beinhaltet Text und Python Code\n",
    "* Code kann verändert und ausgeführt werden\n",
    "* Ändere diese Kursunterlagen mit Notizen, Anmerkungen, Lösungen, usw.\n",
    "* z.B. \"Hello World\" in der nächsten Box"
   ]
  },
  {
   "cell_type": "code",
   "execution_count": null,
   "metadata": {},
   "outputs": [],
   "source": [
    "print(\"Hello World\")"
   ]
  },
  {
   "cell_type": "markdown",
   "metadata": {},
   "source": [
    "### Erste Aufgabe"
   ]
  },
  {
   "cell_type": "code",
   "execution_count": null,
   "metadata": {},
   "outputs": [],
   "source": [
    "# Schreibe ein Programm, dass \"Guten Morgen!\" ausgibt\n",
    "#"
   ]
  }
 ],
 "metadata": {
  "kernelspec": {
   "display_name": "Python 3",
   "language": "python",
   "name": "python3"
  },
  "language_info": {
   "codemirror_mode": {
    "name": "ipython",
    "version": 3
   },
   "file_extension": ".py",
   "mimetype": "text/x-python",
   "name": "python",
   "nbconvert_exporter": "python",
   "pygments_lexer": "ipython3",
   "version": "3.10.1"
  }
 },
 "nbformat": 4,
 "nbformat_minor": 1
}
